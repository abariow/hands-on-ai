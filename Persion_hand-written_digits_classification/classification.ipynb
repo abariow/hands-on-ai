{
  "cells": [
    {
      "cell_type": "markdown",
      "metadata": {},
      "source": [
        "### Try neural networks with different hyperparameters on hand-written digits dataset (Persion Digits Dataset) without using convolutional layers."
      ]
    },
    {
      "cell_type": "code",
      "execution_count": 1,
      "metadata": {
        "id": "HYqOylcUAmxU"
      },
      "outputs": [
        {
          "name": "stderr",
          "output_type": "stream",
          "text": [
            "2023-11-11 12:19:08.450905: I tensorflow/tsl/cuda/cudart_stub.cc:28] Could not find cuda drivers on your machine, GPU will not be used.\n",
            "2023-11-11 12:19:08.966172: E tensorflow/compiler/xla/stream_executor/cuda/cuda_dnn.cc:9342] Unable to register cuDNN factory: Attempting to register factory for plugin cuDNN when one has already been registered\n",
            "2023-11-11 12:19:08.966276: E tensorflow/compiler/xla/stream_executor/cuda/cuda_fft.cc:609] Unable to register cuFFT factory: Attempting to register factory for plugin cuFFT when one has already been registered\n",
            "2023-11-11 12:19:08.969537: E tensorflow/compiler/xla/stream_executor/cuda/cuda_blas.cc:1518] Unable to register cuBLAS factory: Attempting to register factory for plugin cuBLAS when one has already been registered\n",
            "2023-11-11 12:19:09.271773: I tensorflow/tsl/cuda/cudart_stub.cc:28] Could not find cuda drivers on your machine, GPU will not be used.\n",
            "2023-11-11 12:19:09.273475: I tensorflow/core/platform/cpu_feature_guard.cc:182] This TensorFlow binary is optimized to use available CPU instructions in performance-critical operations.\n",
            "To enable the following instructions: AVX2 FMA, in other operations, rebuild TensorFlow with the appropriate compiler flags.\n",
            "2023-11-11 12:19:10.923899: W tensorflow/compiler/tf2tensorrt/utils/py_utils.cc:38] TF-TRT Warning: Could not find TensorRT\n"
          ]
        }
      ],
      "source": [
        "# Import libraries\n",
        "from scipy import io\n",
        "import numpy as np\n",
        "import pandas as pd\n",
        "import matplotlib.pyplot as plt\n",
        "import seaborn as sns\n",
        "from keras.models import Sequential\n",
        "from keras.layers import Dense, Activation, Dropout, LeakyReLU\n",
        "from keras.optimizers import SGD, Adam, RMSprop\n",
        "from keras.utils import to_categorical\n",
        "from keras.callbacks import EarlyStopping\n",
        "from tensorflow.keras.regularizers import L2\n",
        "from sklearn.metrics import confusion_matrix, classification_report, accuracy_score, f1_score, precision_score, recall_score"
      ]
    },
    {
      "cell_type": "code",
      "execution_count": 2,
      "metadata": {
        "colab": {
          "base_uri": "https://localhost:8080/"
        },
        "id": "A5Sp1ex1BYig",
        "outputId": "6a2f990e-8b01-4403-cd4c-99ddf15236c7"
      },
      "outputs": [
        {
          "name": "stdout",
          "output_type": "stream",
          "text": [
            "Downloading...\n",
            "From (uriginal): https://drive.google.com/uc?id=1LJcwIeUsswfpAnlPtYiFkGpIhQdeFHwq\n",
            "From (redirected): https://drive.google.com/uc?id=1LJcwIeUsswfpAnlPtYiFkGpIhQdeFHwq&confirm=t&uuid=a3df2461-d3bc-4154-9096-161044ff6c5b\n",
            "To: /home/hossein/my-projects/hands-on-ai/Persion_hand-written_digits_classification/hoda.mat\n",
            "100%|██████████████████████████████████████| 3.99M/3.99M [00:03<00:00, 1.22MB/s]\n"
          ]
        }
      ],
      "source": [
        "# Download data\n",
        "!gdown 1LJcwIeUsswfpAnlPtYiFkGpIhQdeFHwq"
      ]
    },
    {
      "cell_type": "code",
      "execution_count": 3,
      "metadata": {
        "colab": {
          "base_uri": "https://localhost:8080/"
        },
        "id": "VqyGY1TYAmxW",
        "outputId": "8e6ffe5a-fbc9-417e-a867-21a1dec608fc"
      },
      "outputs": [
        {
          "data": {
            "text/plain": [
              "{'__header__': b'MATLAB 5.0 MAT-file, Platform: PCWIN64, Created on: Thu Jun 30 20:26:30 2011',\n",
              " '__version__': '1.0',\n",
              " '__globals__': [],\n",
              " 'Data': array([[array([[  0,   0,   0,   0, 255, 255,   0,   0,   0,   0,   0,   0,   0,\n",
              "                   0,   0,   0,   0,   0,   0,   0],\n",
              "                [  0,   0,   0, 255, 255, 255, 255,   0,   0,   0,   0,   0,   0,\n",
              "                   0,   0,   0,   0,   0,   0,   0],\n",
              "                [  0,   0, 255, 255, 255, 255, 255,   0,   0,   0,   0,   0,   0,\n",
              "                   0,   0,   0,   0, 255, 255,   0],\n",
              "                [  0, 255, 255, 255, 255, 255,   0,   0,   0,   0,   0,   0,   0,\n",
              "                   0,   0,   0, 255, 255, 255, 255],\n",
              "                [  0, 255, 255, 255, 255,   0,   0,   0,   0,   0,   0,   0,   0,\n",
              "                   0,   0, 255, 255, 255, 255,   0],\n",
              "                [  0, 255, 255, 255,   0,   0,   0,   0,   0,   0,   0,   0,   0,\n",
              "                   0, 255, 255, 255, 255, 255,   0],\n",
              "                [255, 255, 255, 255,   0,   0,   0,   0,   0,   0,   0,   0,   0,\n",
              "                 255, 255, 255, 255, 255,   0,   0],\n",
              "                [255, 255, 255,   0,   0,   0,   0,   0,   0,   0,   0,   0, 255,\n",
              "                 255, 255, 255, 255,   0,   0,   0],\n",
              "                [255, 255, 255,   0,   0,   0,   0,   0,   0,   0, 255, 255, 255,\n",
              "                 255, 255, 255, 255,   0,   0,   0],\n",
              "                [255, 255, 255,   0,   0,   0,   0,   0,   0, 255, 255, 255, 255,\n",
              "                 255, 255, 255,   0,   0,   0,   0],\n",
              "                [255, 255, 255, 255, 255, 255, 255, 255, 255, 255, 255, 255, 255,\n",
              "                 255, 255,   0,   0,   0,   0,   0],\n",
              "                [255, 255, 255, 255, 255, 255, 255, 255, 255, 255, 255, 255, 255,\n",
              "                 255,   0,   0,   0,   0,   0,   0],\n",
              "                [  0, 255, 255, 255, 255, 255, 255, 255, 255, 255, 255, 255, 255,\n",
              "                   0,   0,   0,   0,   0,   0,   0],\n",
              "                [  0,   0,   0,   0, 255, 255, 255, 255, 255, 255, 255, 255, 255,\n",
              "                   0,   0,   0,   0,   0,   0,   0],\n",
              "                [  0,   0,   0,   0,   0,   0,   0, 255, 255, 255, 255, 255,   0,\n",
              "                   0,   0,   0,   0,   0,   0,   0],\n",
              "                [  0,   0,   0,   0,   0,   0,   0, 255, 255, 255, 255,   0,   0,\n",
              "                   0,   0,   0,   0,   0,   0,   0],\n",
              "                [  0,   0,   0,   0,   0,   0, 255, 255, 255, 255, 255,   0,   0,\n",
              "                   0,   0,   0,   0,   0,   0,   0],\n",
              "                [  0,   0,   0,   0,   0,   0, 255, 255, 255, 255,   0,   0,   0,\n",
              "                   0,   0,   0,   0,   0,   0,   0],\n",
              "                [  0,   0,   0,   0,   0, 255, 255, 255, 255, 255,   0,   0,   0,\n",
              "                   0,   0,   0,   0,   0,   0,   0],\n",
              "                [  0,   0,   0,   0,   0, 255, 255, 255, 255,   0,   0,   0,   0,\n",
              "                   0,   0,   0,   0,   0,   0,   0],\n",
              "                [  0,   0,   0,   0,   0, 255, 255, 255, 255,   0,   0,   0,   0,\n",
              "                   0,   0,   0,   0,   0,   0,   0],\n",
              "                [  0,   0,   0,   0,   0, 255, 255, 255, 255,   0,   0,   0,   0,\n",
              "                   0,   0,   0,   0,   0,   0,   0],\n",
              "                [  0,   0,   0,   0,   0, 255, 255, 255,   0,   0,   0,   0,   0,\n",
              "                   0,   0,   0,   0,   0,   0,   0],\n",
              "                [  0,   0,   0,   0, 255, 255, 255, 255,   0,   0,   0,   0,   0,\n",
              "                   0,   0,   0,   0,   0,   0,   0],\n",
              "                [  0,   0,   0,   0, 255, 255, 255, 255,   0,   0,   0,   0,   0,\n",
              "                   0,   0,   0,   0,   0,   0,   0],\n",
              "                [  0,   0,   0,   0, 255, 255, 255,   0,   0,   0,   0,   0,   0,\n",
              "                   0,   0,   0,   0,   0,   0,   0],\n",
              "                [  0,   0,   0,   0,   0, 255, 255,   0,   0,   0,   0,   0,   0,\n",
              "                   0,   0,   0,   0,   0,   0,   0]], dtype=uint8)               ],\n",
              "        [array([[  0,   0,   0,   0,   0,   0,   0,   0,   0,   0, 255, 255,   0,\n",
              "                   0,   0,   0,   0,   0,   0,   0,   0],\n",
              "                [  0,   0,   0,   0,   0,   0,   0,   0,   0, 255, 255, 255, 255,\n",
              "                   0,   0,   0,   0,   0,   0,   0,   0],\n",
              "                [  0,   0,   0,   0,   0,   0,   0,   0, 255, 255, 255, 255, 255,\n",
              "                 255,   0,   0,   0,   0,   0,   0,   0],\n",
              "                [  0,   0,   0,   0,   0,   0,   0,   0, 255, 255, 255, 255, 255,\n",
              "                 255, 255,   0,   0,   0,   0,   0,   0],\n",
              "                [  0,   0,   0,   0,   0,   0, 255, 255, 255, 255, 255, 255, 255,\n",
              "                 255, 255,   0,   0,   0,   0,   0,   0],\n",
              "                [  0,   0,   0,   0,   0, 255, 255, 255, 255, 255, 255, 255, 255,\n",
              "                 255, 255, 255,   0,   0,   0,   0,   0],\n",
              "                [  0,   0,   0,   0, 255, 255, 255, 255, 255,   0,   0,   0,   0,\n",
              "                 255, 255, 255, 255,   0,   0,   0,   0],\n",
              "                [  0,   0,   0,   0, 255, 255, 255, 255,   0,   0,   0,   0,   0,\n",
              "                   0, 255, 255, 255,   0,   0,   0,   0],\n",
              "                [  0,   0,   0, 255, 255, 255, 255,   0,   0,   0,   0,   0,   0,\n",
              "                   0,   0, 255, 255, 255,   0,   0,   0],\n",
              "                [  0,   0, 255, 255, 255, 255,   0,   0,   0,   0,   0,   0,   0,\n",
              "                   0,   0, 255, 255, 255, 255,   0,   0],\n",
              "                [  0, 255, 255, 255, 255, 255,   0,   0,   0,   0,   0,   0,   0,\n",
              "                   0,   0, 255, 255, 255, 255, 255,   0],\n",
              "                [  0, 255, 255, 255, 255,   0,   0,   0,   0,   0,   0,   0,   0,\n",
              "                   0,   0,   0, 255, 255, 255, 255,   0],\n",
              "                [255, 255, 255, 255,   0,   0,   0,   0,   0,   0,   0, 255, 255,\n",
              "                   0,   0,   0,   0, 255, 255, 255, 255],\n",
              "                [255, 255, 255, 255,   0,   0,   0,   0,   0,   0, 255, 255, 255,\n",
              "                 255,   0,   0,   0, 255, 255, 255, 255],\n",
              "                [255, 255, 255,   0,   0,   0,   0,   0,   0, 255, 255, 255, 255,\n",
              "                 255,   0,   0,   0, 255, 255, 255, 255],\n",
              "                [255, 255, 255,   0,   0,   0,   0,   0,   0, 255, 255, 255, 255,\n",
              "                 255,   0,   0,   0, 255, 255, 255, 255],\n",
              "                [255, 255, 255,   0,   0,   0,   0,   0, 255, 255, 255, 255, 255,\n",
              "                 255, 255,   0, 255, 255, 255, 255,   0],\n",
              "                [  0, 255,   0,   0,   0,   0, 255, 255, 255, 255, 255, 255, 255,\n",
              "                 255, 255, 255, 255, 255, 255, 255,   0],\n",
              "                [  0,   0,   0,   0,   0, 255, 255, 255, 255, 255, 255, 255, 255,\n",
              "                 255,   0, 255, 255, 255, 255,   0,   0],\n",
              "                [  0,   0,   0,   0, 255, 255, 255, 255, 255,   0,   0,   0,   0,\n",
              "                   0,   0,   0,   0,   0,   0,   0,   0]], dtype=uint8)          ],\n",
              "        [array([[  0, 255, 255, 255, 255, 255, 255, 255, 255,   0,   0,   0, 255,\n",
              "                 255,   0],\n",
              "                [  0, 255, 255, 255, 255, 255, 255, 255, 255, 255, 255, 255, 255,\n",
              "                 255,   0],\n",
              "                [255, 255, 255, 255, 255, 255, 255, 255, 255, 255, 255, 255, 255,\n",
              "                 255, 255],\n",
              "                [255, 255, 255, 255, 255,   0, 255, 255, 255,   0, 255, 255, 255,\n",
              "                 255, 255],\n",
              "                [255, 255, 255, 255,   0,   0,   0,   0,   0,   0, 255, 255, 255,\n",
              "                 255, 255],\n",
              "                [255, 255, 255, 255, 255, 255, 255, 255, 255, 255, 255, 255, 255,\n",
              "                 255, 255],\n",
              "                [255, 255, 255, 255, 255, 255, 255, 255, 255, 255, 255, 255, 255,\n",
              "                 255,   0],\n",
              "                [  0, 255, 255, 255, 255, 255, 255, 255, 255, 255, 255, 255, 255,\n",
              "                 255,   0],\n",
              "                [  0,   0, 255, 255, 255, 255, 255, 255, 255, 255, 255, 255, 255,\n",
              "                   0,   0],\n",
              "                [  0,   0,   0,   0, 255,   0, 255, 255, 255,   0,   0,   0,   0,\n",
              "                   0,   0]], dtype=uint8)                                        ],\n",
              "        ...,\n",
              "        [array([[  0, 255, 255, 255,   0,   0,   0,   0,   0,   0,   0,   0, 255,\n",
              "                 255,   0],\n",
              "                [255, 255, 255, 255,   0,   0,   0,   0,   0,   0,   0,   0, 255,\n",
              "                 255, 255],\n",
              "                [  0, 255, 255, 255, 255,   0,   0,   0,   0,   0,   0,   0, 255,\n",
              "                 255, 255],\n",
              "                [  0, 255, 255, 255, 255,   0,   0,   0,   0,   0,   0, 255, 255,\n",
              "                 255, 255],\n",
              "                [  0, 255, 255, 255, 255, 255,   0,   0,   0,   0,   0, 255, 255,\n",
              "                 255, 255],\n",
              "                [  0, 255, 255, 255, 255, 255,   0,   0, 255, 255, 255, 255, 255,\n",
              "                 255,   0],\n",
              "                [  0,   0, 255, 255, 255, 255, 255, 255, 255, 255, 255, 255, 255,\n",
              "                   0,   0],\n",
              "                [  0,   0, 255, 255, 255, 255, 255, 255, 255, 255, 255,   0,   0,\n",
              "                   0,   0],\n",
              "                [  0,   0, 255, 255, 255, 255,   0,   0,   0,   0,   0,   0,   0,\n",
              "                   0,   0],\n",
              "                [  0,   0, 255, 255, 255, 255,   0,   0,   0,   0,   0,   0,   0,\n",
              "                   0,   0],\n",
              "                [  0,   0, 255, 255, 255, 255,   0,   0,   0,   0,   0,   0,   0,\n",
              "                   0,   0],\n",
              "                [  0,   0, 255, 255, 255, 255,   0,   0,   0,   0,   0,   0,   0,\n",
              "                   0,   0],\n",
              "                [  0,   0, 255, 255, 255, 255,   0,   0,   0,   0,   0,   0,   0,\n",
              "                   0,   0],\n",
              "                [  0,   0, 255, 255, 255, 255,   0,   0,   0,   0,   0,   0,   0,\n",
              "                   0,   0],\n",
              "                [  0,   0, 255, 255, 255, 255,   0,   0,   0,   0,   0,   0,   0,\n",
              "                   0,   0],\n",
              "                [  0,   0, 255, 255, 255, 255,   0,   0,   0,   0,   0,   0,   0,\n",
              "                   0,   0],\n",
              "                [  0,   0,   0, 255, 255, 255,   0,   0,   0,   0,   0,   0,   0,\n",
              "                   0,   0],\n",
              "                [  0,   0,   0, 255, 255, 255,   0,   0,   0,   0,   0,   0,   0,\n",
              "                   0,   0],\n",
              "                [  0,   0,   0, 255, 255, 255,   0,   0,   0,   0,   0,   0,   0,\n",
              "                   0,   0],\n",
              "                [  0,   0,   0,   0, 255, 255, 255,   0,   0,   0,   0,   0,   0,\n",
              "                   0,   0],\n",
              "                [  0,   0,   0,   0, 255, 255, 255,   0,   0,   0,   0,   0,   0,\n",
              "                   0,   0],\n",
              "                [  0,   0,   0, 255, 255, 255, 255,   0,   0,   0,   0,   0,   0,\n",
              "                   0,   0],\n",
              "                [  0,   0,   0,   0, 255, 255, 255, 255,   0,   0,   0,   0,   0,\n",
              "                   0,   0],\n",
              "                [  0,   0,   0,   0,   0, 255, 255, 255,   0,   0,   0,   0,   0,\n",
              "                   0,   0],\n",
              "                [  0,   0,   0,   0,   0,   0,   0, 255,   0,   0,   0,   0,   0,\n",
              "                   0,   0]], dtype=uint8)                                        ],\n",
              "        [array([[  0,   0,   0,   0,   0,   0, 255, 255, 255,   0,   0,   0,   0,\n",
              "                   0,   0,   0,   0,   0],\n",
              "                [  0,   0,   0,   0,   0,   0, 255, 255, 255, 255,   0,   0,   0,\n",
              "                   0,   0,   0,   0,   0],\n",
              "                [  0,   0,   0,   0,   0, 255, 255, 255, 255, 255,   0,   0,   0,\n",
              "                   0,   0,   0,   0,   0],\n",
              "                [  0,   0,   0,   0,   0, 255, 255, 255, 255,   0,   0,   0,   0,\n",
              "                   0,   0,   0,   0,   0],\n",
              "                [  0,   0,   0,   0,   0, 255, 255,   0,   0,   0,   0,   0,   0,\n",
              "                   0,   0,   0,   0,   0],\n",
              "                [  0,   0,   0,   0,   0, 255, 255,   0,   0,   0,   0,   0,   0,\n",
              "                   0,   0,   0, 255, 255],\n",
              "                [  0,   0,   0,   0, 255, 255, 255,   0,   0,   0,   0,   0,   0,\n",
              "                   0,   0,   0, 255, 255],\n",
              "                [  0,   0,   0,   0, 255, 255, 255,   0,   0,   0,   0,   0,   0,\n",
              "                   0,   0, 255, 255, 255],\n",
              "                [  0,   0,   0, 255, 255, 255, 255,   0,   0,   0,   0,   0,   0,\n",
              "                   0,   0, 255, 255, 255],\n",
              "                [  0,   0,   0, 255, 255, 255, 255,   0,   0,   0,   0,   0,   0,\n",
              "                   0, 255, 255, 255,   0],\n",
              "                [  0,   0,   0, 255, 255, 255,   0,   0,   0,   0,   0,   0,   0,\n",
              "                 255, 255, 255, 255,   0],\n",
              "                [  0,   0,   0, 255, 255, 255,   0,   0,   0,   0,   0, 255, 255,\n",
              "                 255, 255, 255,   0,   0],\n",
              "                [  0,   0,   0, 255, 255, 255,   0,   0,   0,   0,   0, 255, 255,\n",
              "                 255, 255,   0,   0,   0],\n",
              "                [  0,   0,   0,   0, 255, 255, 255,   0,   0,   0, 255, 255, 255,\n",
              "                 255,   0,   0,   0,   0],\n",
              "                [  0,   0,   0,   0, 255, 255, 255, 255, 255, 255, 255, 255, 255,\n",
              "                 255,   0,   0,   0,   0],\n",
              "                [  0,   0,   0,   0, 255, 255, 255, 255, 255, 255, 255, 255, 255,\n",
              "                   0,   0,   0,   0,   0],\n",
              "                [  0,   0,   0,   0,   0, 255, 255, 255, 255, 255, 255, 255,   0,\n",
              "                   0,   0,   0,   0,   0],\n",
              "                [  0,   0,   0,   0,   0,   0, 255, 255, 255, 255, 255,   0,   0,\n",
              "                   0,   0,   0,   0,   0],\n",
              "                [  0,   0,   0,   0,   0,   0,   0, 255, 255, 255,   0,   0,   0,\n",
              "                   0,   0,   0,   0,   0],\n",
              "                [  0,   0,   0,   0,   0,   0, 255, 255, 255,   0,   0,   0,   0,\n",
              "                   0,   0,   0,   0,   0],\n",
              "                [  0,   0,   0,   0,   0, 255, 255, 255, 255,   0,   0,   0,   0,\n",
              "                   0,   0,   0,   0,   0],\n",
              "                [  0,   0,   0,   0,   0, 255, 255, 255, 255,   0,   0,   0,   0,\n",
              "                   0,   0,   0,   0,   0],\n",
              "                [  0,   0,   0,   0, 255, 255, 255, 255,   0,   0,   0,   0,   0,\n",
              "                   0,   0,   0,   0,   0],\n",
              "                [  0,   0,   0, 255, 255, 255, 255,   0,   0,   0,   0,   0,   0,\n",
              "                   0,   0,   0,   0,   0],\n",
              "                [  0,   0,   0, 255, 255, 255, 255,   0,   0,   0,   0,   0,   0,\n",
              "                   0,   0,   0,   0,   0],\n",
              "                [  0,   0,   0, 255, 255, 255,   0,   0,   0,   0,   0,   0,   0,\n",
              "                   0,   0,   0,   0,   0],\n",
              "                [  0,   0, 255, 255, 255, 255,   0,   0,   0,   0,   0,   0,   0,\n",
              "                   0,   0,   0,   0,   0],\n",
              "                [  0,   0, 255, 255, 255,   0,   0,   0,   0,   0,   0,   0,   0,\n",
              "                   0,   0,   0,   0,   0],\n",
              "                [  0,   0, 255, 255, 255,   0,   0,   0,   0,   0,   0,   0,   0,\n",
              "                   0,   0,   0,   0,   0],\n",
              "                [  0, 255, 255, 255,   0,   0,   0,   0,   0,   0,   0,   0,   0,\n",
              "                   0,   0,   0,   0,   0],\n",
              "                [255, 255, 255,   0,   0,   0,   0,   0,   0,   0,   0,   0,   0,\n",
              "                   0,   0,   0,   0,   0],\n",
              "                [255, 255, 255,   0,   0,   0,   0,   0,   0,   0,   0,   0,   0,\n",
              "                   0,   0,   0,   0,   0],\n",
              "                [255, 255, 255,   0,   0,   0,   0,   0,   0,   0,   0,   0,   0,\n",
              "                   0,   0,   0,   0,   0],\n",
              "                [255, 255, 255,   0,   0,   0,   0,   0,   0,   0,   0,   0,   0,\n",
              "                   0,   0,   0,   0,   0],\n",
              "                [255, 255, 255, 255,   0,   0,   0,   0,   0,   0,   0,   0,   0,\n",
              "                   0,   0,   0,   0,   0]], dtype=uint8)                         ],\n",
              "        [array([[  0,   0,   0,   0, 255, 255, 255, 255, 255, 255, 255, 255,   0,\n",
              "                   0,   0,   0,   0,   0,   0,   0, 255, 255, 255, 255, 255],\n",
              "                [  0,   0, 255, 255, 255, 255, 255, 255, 255, 255, 255, 255,   0,\n",
              "                   0,   0,   0,   0,   0,   0, 255, 255, 255, 255, 255, 255],\n",
              "                [  0,   0, 255, 255, 255, 255, 255,   0, 255, 255, 255,   0,   0,\n",
              "                   0,   0,   0,   0,   0,   0, 255, 255, 255, 255, 255, 255],\n",
              "                [  0, 255, 255, 255, 255, 255,   0,   0, 255, 255, 255,   0,   0,\n",
              "                   0,   0,   0,   0,   0, 255, 255, 255, 255, 255, 255, 255],\n",
              "                [  0, 255, 255, 255, 255,   0,   0,   0,   0,   0,   0,   0,   0,\n",
              "                   0,   0,   0,   0,   0, 255, 255, 255, 255, 255, 255,   0],\n",
              "                [255, 255, 255, 255,   0,   0,   0,   0,   0,   0,   0,   0,   0,\n",
              "                   0,   0,   0,   0,   0, 255, 255, 255, 255, 255,   0,   0],\n",
              "                [255, 255, 255, 255, 255,   0,   0,   0,   0,   0,   0,   0,   0,\n",
              "                   0,   0,   0,   0, 255, 255, 255, 255, 255, 255,   0,   0],\n",
              "                [255, 255, 255, 255, 255,   0,   0,   0,   0,   0,   0,   0,   0,\n",
              "                   0,   0,   0,   0, 255, 255, 255, 255, 255, 255,   0,   0],\n",
              "                [  0, 255, 255, 255,   0,   0,   0,   0,   0,   0,   0,   0,   0,\n",
              "                   0,   0,   0, 255, 255, 255, 255, 255, 255, 255,   0,   0],\n",
              "                [  0, 255, 255, 255, 255,   0,   0,   0,   0,   0,   0,   0,   0,\n",
              "                   0,   0, 255, 255, 255, 255, 255, 255, 255, 255,   0,   0],\n",
              "                [255, 255, 255, 255, 255,   0,   0,   0,   0,   0,   0,   0,   0,\n",
              "                   0, 255, 255, 255, 255, 255, 255, 255, 255, 255,   0,   0],\n",
              "                [255, 255, 255, 255, 255,   0,   0,   0,   0,   0,   0,   0,   0,\n",
              "                 255, 255, 255, 255, 255, 255, 255, 255, 255,   0,   0,   0],\n",
              "                [  0, 255, 255, 255, 255, 255, 255, 255, 255,   0,   0, 255, 255,\n",
              "                 255, 255, 255, 255, 255, 255, 255, 255, 255,   0,   0,   0],\n",
              "                [  0, 255, 255, 255, 255, 255, 255, 255, 255, 255, 255, 255, 255,\n",
              "                 255, 255, 255, 255, 255, 255, 255, 255, 255,   0,   0,   0],\n",
              "                [  0,   0, 255, 255, 255, 255, 255, 255, 255, 255, 255, 255, 255,\n",
              "                 255, 255,   0,   0, 255, 255, 255, 255,   0,   0,   0,   0],\n",
              "                [  0,   0,   0, 255, 255, 255, 255, 255, 255, 255, 255, 255, 255,\n",
              "                 255,   0,   0,   0, 255, 255, 255, 255,   0,   0,   0,   0],\n",
              "                [  0,   0,   0,   0,   0, 255, 255, 255, 255, 255, 255, 255, 255,\n",
              "                   0,   0,   0,   0, 255, 255, 255, 255,   0,   0,   0,   0],\n",
              "                [  0,   0,   0,   0,   0,   0,   0,   0,   0,   0,   0,   0,   0,\n",
              "                   0,   0,   0, 255, 255, 255, 255, 255,   0,   0,   0,   0],\n",
              "                [  0,   0,   0,   0,   0,   0,   0,   0,   0,   0,   0,   0,   0,\n",
              "                   0,   0,   0, 255, 255, 255, 255, 255,   0,   0,   0,   0],\n",
              "                [  0,   0,   0,   0,   0,   0,   0,   0,   0,   0,   0,   0,   0,\n",
              "                   0,   0,   0, 255, 255, 255, 255,   0,   0,   0,   0,   0],\n",
              "                [  0,   0,   0,   0,   0,   0,   0,   0,   0,   0,   0,   0,   0,\n",
              "                   0,   0,   0, 255, 255, 255, 255,   0,   0,   0,   0,   0],\n",
              "                [  0,   0,   0,   0,   0,   0,   0,   0,   0,   0,   0,   0,   0,\n",
              "                   0,   0, 255, 255, 255, 255, 255,   0,   0,   0,   0,   0],\n",
              "                [  0,   0,   0,   0,   0,   0,   0,   0,   0,   0,   0,   0,   0,\n",
              "                   0,   0, 255, 255, 255, 255, 255,   0,   0,   0,   0,   0],\n",
              "                [  0,   0,   0,   0,   0,   0,   0,   0,   0,   0,   0,   0,   0,\n",
              "                   0,   0, 255, 255, 255, 255, 255,   0,   0,   0,   0,   0],\n",
              "                [  0,   0,   0,   0,   0,   0,   0,   0,   0,   0,   0,   0,   0,\n",
              "                   0,   0, 255, 255, 255, 255,   0,   0,   0,   0,   0,   0],\n",
              "                [  0,   0,   0,   0,   0,   0,   0,   0,   0,   0,   0,   0,   0,\n",
              "                   0,   0, 255, 255, 255, 255,   0,   0,   0,   0,   0,   0],\n",
              "                [  0,   0,   0,   0,   0,   0,   0,   0,   0,   0,   0,   0,   0,\n",
              "                   0,   0, 255, 255, 255, 255,   0,   0,   0,   0,   0,   0],\n",
              "                [  0,   0,   0,   0,   0,   0,   0,   0,   0,   0,   0,   0,   0,\n",
              "                   0,   0, 255, 255, 255, 255,   0,   0,   0,   0,   0,   0],\n",
              "                [  0,   0,   0,   0,   0,   0,   0,   0,   0,   0,   0,   0,   0,\n",
              "                   0, 255, 255, 255, 255,   0,   0,   0,   0,   0,   0,   0],\n",
              "                [  0,   0,   0,   0,   0,   0,   0,   0,   0,   0,   0,   0,   0,\n",
              "                   0, 255, 255, 255, 255,   0,   0,   0,   0,   0,   0,   0],\n",
              "                [  0,   0,   0,   0,   0,   0,   0,   0,   0,   0,   0,   0,   0,\n",
              "                   0, 255, 255, 255, 255,   0,   0,   0,   0,   0,   0,   0],\n",
              "                [  0,   0,   0,   0,   0,   0,   0,   0,   0,   0,   0,   0,   0,\n",
              "                   0, 255, 255, 255, 255,   0,   0,   0,   0,   0,   0,   0],\n",
              "                [  0,   0,   0,   0,   0,   0,   0,   0,   0,   0,   0,   0,   0,\n",
              "                   0, 255, 255, 255,   0,   0,   0,   0,   0,   0,   0,   0],\n",
              "                [  0,   0,   0,   0,   0,   0,   0,   0,   0,   0,   0,   0,   0,\n",
              "                 255, 255, 255, 255, 255,   0,   0,   0,   0,   0,   0,   0],\n",
              "                [  0,   0,   0,   0,   0,   0,   0,   0,   0,   0,   0,   0,   0,\n",
              "                   0, 255, 255, 255, 255,   0,   0,   0,   0,   0,   0,   0]],\n",
              "               dtype=uint8)                                                      ]],\n",
              "       dtype=object),\n",
              " 'labels': array([[6],\n",
              "        [5],\n",
              "        [0],\n",
              "        ...,\n",
              "        [2],\n",
              "        [6],\n",
              "        [6]], dtype=uint8)}"
            ]
          },
          "execution_count": 3,
          "metadata": {},
          "output_type": "execute_result"
        }
      ],
      "source": [
        "# Read data from .mat file\n",
        "hoda = io.loadmat(file_name='hoda.mat')\n",
        "hoda"
      ]
    },
    {
      "cell_type": "code",
      "execution_count": 4,
      "metadata": {
        "colab": {
          "base_uri": "https://localhost:8080/"
        },
        "id": "zuw9DcUMAmxX",
        "outputId": "8c086896-fc0a-46cf-e220-874883ba2e1d"
      },
      "outputs": [
        {
          "data": {
            "text/plain": [
              "dict_keys(['__header__', '__version__', '__globals__', 'Data', 'labels'])"
            ]
          },
          "execution_count": 4,
          "metadata": {},
          "output_type": "execute_result"
        }
      ],
      "source": [
        "# Show content of hoda\n",
        "hoda.keys()"
      ]
    },
    {
      "cell_type": "code",
      "execution_count": 5,
      "metadata": {
        "id": "hT9Q4_vUDPGB"
      },
      "outputs": [],
      "source": [
        "# Some cleaning\n",
        "data = np.squeeze(hoda['Data'])\n",
        "labels = np.squeeze(hoda['labels'])"
      ]
    },
    {
      "cell_type": "code",
      "execution_count": 6,
      "metadata": {
        "colab": {
          "base_uri": "https://localhost:8080/"
        },
        "id": "xONjSNJBAmxY",
        "outputId": "e0cc9b24-7df5-41fc-caa2-708ec0b6533e"
      },
      "outputs": [
        {
          "name": "stdout",
          "output_type": "stream",
          "text": [
            "(40000,) (40000,)\n",
            "(10000,) (10000,)\n",
            "(10000,) (10000,)\n"
          ]
        }
      ],
      "source": [
        "X_train =  data[:40000]# Extract training data (40000 images)\n",
        "y_train = labels[:40000] # Extract training labels (40000 labels)\n",
        "X_valid = data[40000:50000] # Extract validation data (10000 images)\n",
        "y_valid = labels[40000:50000] # Extract validation labels (10000 labels)\n",
        "X_test = data[50000:60000] # Extract testing data (10000 images)\n",
        "y_test = labels[50000:60000] # Extract testing labels (10000 labels)\n",
        "\n",
        "print(X_train.shape, y_train.shape)\n",
        "print(X_valid.shape, y_valid.shape)\n",
        "print(X_test.shape, y_test.shape)"
      ]
    },
    {
      "cell_type": "code",
      "execution_count": 7,
      "metadata": {
        "colab": {
          "base_uri": "https://localhost:8080/",
          "height": 306
        },
        "id": "8pxdTc2gAmxZ",
        "outputId": "814e0520-4238-498d-8abe-d6598099881d"
      },
      "outputs": [
        {
          "data": {
            "image/png": "[encoded data removed]",
            "text/plain": [
              "<Figure size 300x300 with 9 Axes>"
            ]
          },
          "metadata": {},
          "output_type": "display_data"
        }
      ],
      "source": [
        "# plot the first 9 images in the training set in a 3x3 grid\n",
        "fig, axes = plt.subplots(3, 3, figsize=(3, 3))\n",
        "for i, ax in enumerate(axes.flatten()):\n",
        "  ax.imshow(X_train[i], cmap='gray')\n",
        "  ax.axis('off')\n",
        "  ax.set_title(y_train[i])\n",
        "plt.tight_layout()\n",
        "plt.show()"
      ]
    },
    {
      "cell_type": "markdown",
      "metadata": {
        "id": "xxDRO9QgAmxa"
      },
      "source": [
        "### Preprocessing"
      ]
    },
    {
      "cell_type": "code",
      "execution_count": 8,
      "metadata": {
        "colab": {
          "base_uri": "https://localhost:8080/"
        },
        "id": "VSGMKmlKSRLR",
        "outputId": "7eb0ba99-23a3-4935-c702-da7cf3ce79b3"
      },
      "outputs": [
        {
          "data": {
            "text/plain": [
              "(62, 62)"
            ]
          },
          "execution_count": 8,
          "metadata": {},
          "output_type": "execute_result"
        }
      ],
      "source": [
        "# Define a function to resize a single image to 62 x 62\n",
        "def resize_image(img, new_w, new_h):\n",
        "\n",
        "  current_h, current_w = img.shape\n",
        "  img_resized = img.copy()\n",
        "  delta_w = (new_w - current_w)\n",
        "  delta_h = (new_h - current_h)\n",
        "\n",
        "  # Check if resizing is possible\n",
        "  if delta_w < 0 or delta_h < 0:\n",
        "    raise ValueError(\"Can't resize to a lower size\")\n",
        "\n",
        "  if delta_w != 0:\n",
        "    expansion_left = np.zeros((current_h, delta_w // 2))\n",
        "    expansion_right = np.zeros((current_h, delta_w // 2 + (delta_w % 2) * 1))\n",
        "\n",
        "    # Expand image horizontally to new width\n",
        "    img_resized = np.hstack((expansion_left, img, expansion_right))\n",
        "\n",
        "  if delta_h != 0:\n",
        "    current_w = img_resized.shape[1]\n",
        "    expansion_up = np.zeros((delta_h // 2, current_w))\n",
        "    expansion_down = np.zeros((delta_h // 2 + (delta_h % 2) * 1, current_w))\n",
        "\n",
        "    # Expand image vertically to new height\n",
        "    img_resized = np.vstack(\n",
        "        (expansion_up, img_resized, expansion_down)\n",
        "    )\n",
        "\n",
        "  return img_resized\n",
        "\n",
        "resize_image(X_train[0], 62, 62).shape"
      ]
    },
    {
      "cell_type": "code",
      "execution_count": 9,
      "metadata": {
        "id": "fzaBpxWfAmxa"
      },
      "outputs": [],
      "source": [
        "# Resize training images to 62x62\n",
        "X_train_resized = np.empty((X_train.shape[0], 62, 62))\n",
        "for i, img in enumerate(X_train):\n",
        "  X_train_resized[i] = resize_image(img, new_w=62, new_h=62)\n",
        "\n",
        "# Resize validation images to 62x62\n",
        "X_valid_resized = np.empty((X_valid.shape[0], 62, 62))\n",
        "for i, img in enumerate(X_valid):\n",
        "  X_valid_resized[i] = resize_image(img, new_w=62, new_h=62)\n",
        "\n",
        "# Resize testing images to 62x62\n",
        "X_test_resized = np.empty((X_test.shape[0], 62, 62))\n",
        "for i, img in enumerate(X_test):\n",
        "  X_test_resized[i] = resize_image(img, new_w=62, new_h=62)"
      ]
    },
    {
      "cell_type": "code",
      "execution_count": 10,
      "metadata": {
        "colab": {
          "base_uri": "https://localhost:8080/",
          "height": 306
        },
        "id": "81CnX6ntAmxb",
        "outputId": "27c47bfd-ca0c-4027-c5e1-ad71de103ff7"
      },
      "outputs": [
        {
          "data": {
            "image/png": "[encoded data removed]",
            "text/plain": [
              "<Figure size 300x300 with 9 Axes>"
            ]
          },
          "metadata": {},
          "output_type": "display_data"
        }
      ],
      "source": [
        "# plot the first 9 images in the training set in a 3x3 grid after resizing\n",
        "fig, axes = plt.subplots(3, 3, figsize=(3, 3))\n",
        "for i, ax in enumerate(axes.flatten()):\n",
        "  ax.imshow(X_train_resized[i], cmap='gray')\n",
        "  ax.axis('off')\n",
        "  ax.set_title(y_train[i])\n",
        "plt.tight_layout()\n",
        "plt.show()"
      ]
    },
    {
      "cell_type": "code",
      "execution_count": 11,
      "metadata": {
        "colab": {
          "base_uri": "https://localhost:8080/"
        },
        "id": "ETYkQmy_Amxc",
        "outputId": "35bf5ba9-f30f-4e38-a347-9650edfd8cc7"
      },
      "outputs": [
        {
          "name": "stdout",
          "output_type": "stream",
          "text": [
            "(40000, 3844)\n",
            "(10000, 3844)\n",
            "(10000, 3844)\n"
          ]
        }
      ],
      "source": [
        "# Vectorize training images\n",
        "X_train_vectorized = X_train_resized.reshape(X_train.shape[0], -1)\n",
        "\n",
        "# Vectorize validation images\n",
        "X_valid_vectorized = X_valid_resized.reshape(X_valid.shape[0], -1)\n",
        "\n",
        "# Vectorize testing images\n",
        "X_test_vectorized = X_test_resized.reshape(X_test.shape[0], -1)\n",
        "\n",
        "print(X_train_vectorized.shape)\n",
        "print(X_valid_vectorized.shape)\n",
        "print(X_test_vectorized.shape)"
      ]
    },
    {
      "cell_type": "code",
      "execution_count": 12,
      "metadata": {
        "id": "KQb_BrCLAmxd"
      },
      "outputs": [],
      "source": [
        "# Normalize training images\n",
        "X_train_normalized = X_train_vectorized / 255\n",
        "\n",
        "# Normalize validation images\n",
        "X_valid_normalized = X_valid_vectorized / 255\n",
        "\n",
        "# Normalize testing images\n",
        "X_test_normalized = X_test_vectorized / 255"
      ]
    },
    {
      "cell_type": "code",
      "execution_count": 13,
      "metadata": {
        "colab": {
          "base_uri": "https://localhost:8080/"
        },
        "id": "3r3gSwU_Amxd",
        "outputId": "8585c66f-ea60-48f1-fc5d-a8f309036621"
      },
      "outputs": [
        {
          "name": "stdout",
          "output_type": "stream",
          "text": [
            "(40000, 10)\n",
            "(10000, 10)\n",
            "(10000, 10)\n"
          ]
        }
      ],
      "source": [
        "# One-hot encode training labels\n",
        "y_train_onehot = to_categorical(y_train)\n",
        "\n",
        "# One-hot encode validation labels\n",
        "y_valid_onehot = to_categorical(y_valid)\n",
        "\n",
        "# One-hot encode testing labels\n",
        "y_test_onehot = to_categorical(y_test)\n",
        "\n",
        "print(y_train_onehot.shape)\n",
        "print(y_valid_onehot.shape)\n",
        "print(y_test_onehot.shape)"
      ]
    },
    {
      "cell_type": "markdown",
      "metadata": {
        "id": "mh394FvaAmxe"
      },
      "source": [
        "### Implement models"
      ]
    },
    {
      "cell_type": "markdown",
      "metadata": {
        "id": "ijxLKAeEAmxe"
      },
      "source": [
        "#### Model 1"
      ]
    },
    {
      "cell_type": "code",
      "execution_count": 14,
      "metadata": {
        "id": "JlSpEWAyAmxf"
      },
      "outputs": [
        {
          "name": "stderr",
          "output_type": "stream",
          "text": [
            "2023-11-11 12:19:35.750289: I tensorflow/compiler/xla/stream_executor/cuda/cuda_gpu_executor.cc:894] successful NUMA node read from SysFS had negative value (-1), but there must be at least one NUMA node, so returning NUMA node zero. See more at https://github.com/torvalds/linux/blob/v6.0/Documentation/ABI/testing/sysfs-bus-pci#L344-L355\n",
            "2023-11-11 12:19:35.753048: W tensorflow/core/common_runtime/gpu/gpu_device.cc:2211] Cannot dlopen some GPU libraries. Please make sure the missing libraries mentioned above are installed properly if you would like to use GPU. Follow the guide at https://www.tensorflow.org/install/gpu for how to download and setup the required libraries for your platform.\n",
            "Skipping registering GPU devices...\n"
          ]
        }
      ],
      "source": [
        "model1 = Sequential()\n",
        "\n",
        "# Add a dense layer with 64 neurons and tanh activation\n",
        "model1.add(Dense(64, activation='tanh', name='Hidden'))\n",
        "\n",
        "# Add a dense layer with 10 neurons and softmax activation\n",
        "model1.add(Dense(10, activation='softmax', name='Output'))"
      ]
    },
    {
      "cell_type": "code",
      "execution_count": 15,
      "metadata": {
        "id": "10DOFEMIAmxf"
      },
      "outputs": [],
      "source": [
        "# Compile the model\n",
        "sgd_optimizer = SGD(learning_rate=0.01)\n",
        "model1.compile(\n",
        "    loss='categorical_crossentropy',\n",
        "    optimizer=sgd_optimizer,\n",
        "    metrics=['accuracy'])\n",
        "\n",
        "# Stop training when validation loss does not improve for 10 epochs\n",
        "early_stopping = EarlyStopping(monitor='val_loss', patience=10, restore_best_weights=True)"
      ]
    },
    {
      "cell_type": "code",
      "execution_count": 16,
      "metadata": {
        "colab": {
          "base_uri": "https://localhost:8080/"
        },
        "id": "spt2ZiZOAmxf",
        "outputId": "63c121c1-b2a8-4dc5-f654-41087b98d5f4"
      },
      "outputs": [
        {
          "name": "stdout",
          "output_type": "stream",
          "text": [
            "Epoch 1/100\n"
          ]
        },
        {
          "name": "stderr",
          "output_type": "stream",
          "text": [
            "2023-11-11 12:19:38.255338: W tensorflow/tsl/framework/cpu_allocator_impl.cc:83] Allocation of 615040000 exceeds 10% of free system memory.\n"
          ]
        },
        {
          "name": "stdout",
          "output_type": "stream",
          "text": [
            "1250/1250 [==============================] - 5s 4ms/step - loss: 0.4398 - accuracy: 0.8945 - val_loss: 0.2731 - val_accuracy: 0.9247\n",
            "Epoch 2/100\n",
            "1250/1250 [==============================] - 5s 4ms/step - loss: 0.2357 - accuracy: 0.9368 - val_loss: 0.2158 - val_accuracy: 0.9413\n",
            "Epoch 3/100\n",
            "1250/1250 [==============================] - 4s 3ms/step - loss: 0.1962 - accuracy: 0.9474 - val_loss: 0.1891 - val_accuracy: 0.9486\n",
            "Epoch 4/100\n",
            "1250/1250 [==============================] - 4s 3ms/step - loss: 0.1730 - accuracy: 0.9542 - val_loss: 0.1724 - val_accuracy: 0.9527\n",
            "Epoch 5/100\n",
            "1250/1250 [==============================] - 4s 3ms/step - loss: 0.1568 - accuracy: 0.9589 - val_loss: 0.1599 - val_accuracy: 0.9580\n",
            "Epoch 6/100\n",
            "1250/1250 [==============================] - 4s 3ms/step - loss: 0.1445 - accuracy: 0.9625 - val_loss: 0.1504 - val_accuracy: 0.9595\n",
            "Epoch 7/100\n",
            "1250/1250 [==============================] - 4s 3ms/step - loss: 0.1345 - accuracy: 0.9656 - val_loss: 0.1427 - val_accuracy: 0.9608\n",
            "Epoch 8/100\n",
            "1250/1250 [==============================] - 4s 3ms/step - loss: 0.1262 - accuracy: 0.9673 - val_loss: 0.1360 - val_accuracy: 0.9629\n",
            "Epoch 9/100\n",
            "1250/1250 [==============================] - 4s 3ms/step - loss: 0.1188 - accuracy: 0.9694 - val_loss: 0.1302 - val_accuracy: 0.9640\n",
            "Epoch 10/100\n",
            "1250/1250 [==============================] - 3s 3ms/step - loss: 0.1126 - accuracy: 0.9714 - val_loss: 0.1256 - val_accuracy: 0.9663\n",
            "Epoch 11/100\n",
            "1250/1250 [==============================] - 3s 3ms/step - loss: 0.1069 - accuracy: 0.9728 - val_loss: 0.1219 - val_accuracy: 0.9663\n",
            "Epoch 12/100\n",
            "1250/1250 [==============================] - 4s 3ms/step - loss: 0.1019 - accuracy: 0.9742 - val_loss: 0.1173 - val_accuracy: 0.9683\n",
            "Epoch 13/100\n",
            "1250/1250 [==============================] - 4s 3ms/step - loss: 0.0975 - accuracy: 0.9753 - val_loss: 0.1140 - val_accuracy: 0.9690\n",
            "Epoch 14/100\n",
            "1250/1250 [==============================] - 4s 3ms/step - loss: 0.0931 - accuracy: 0.9765 - val_loss: 0.1112 - val_accuracy: 0.9698\n",
            "Epoch 15/100\n",
            "1250/1250 [==============================] - 4s 3ms/step - loss: 0.0894 - accuracy: 0.9776 - val_loss: 0.1083 - val_accuracy: 0.9707\n",
            "Epoch 16/100\n",
            "1250/1250 [==============================] - 3s 3ms/step - loss: 0.0858 - accuracy: 0.9784 - val_loss: 0.1056 - val_accuracy: 0.9713\n",
            "Epoch 17/100\n",
            "1250/1250 [==============================] - 4s 3ms/step - loss: 0.0827 - accuracy: 0.9792 - val_loss: 0.1033 - val_accuracy: 0.9726\n",
            "Epoch 18/100\n",
            "1250/1250 [==============================] - 4s 3ms/step - loss: 0.0795 - accuracy: 0.9801 - val_loss: 0.1018 - val_accuracy: 0.9725\n",
            "Epoch 19/100\n",
            "1250/1250 [==============================] - 4s 4ms/step - loss: 0.0768 - accuracy: 0.9808 - val_loss: 0.0998 - val_accuracy: 0.9736\n",
            "Epoch 20/100\n",
            "1250/1250 [==============================] - 5s 4ms/step - loss: 0.0741 - accuracy: 0.9816 - val_loss: 0.0979 - val_accuracy: 0.9743\n",
            "Epoch 21/100\n",
            "1250/1250 [==============================] - 4s 3ms/step - loss: 0.0717 - accuracy: 0.9827 - val_loss: 0.0968 - val_accuracy: 0.9741\n",
            "Epoch 22/100\n",
            "1250/1250 [==============================] - 4s 3ms/step - loss: 0.0693 - accuracy: 0.9833 - val_loss: 0.0954 - val_accuracy: 0.9740\n",
            "Epoch 23/100\n",
            "1250/1250 [==============================] - 5s 4ms/step - loss: 0.0671 - accuracy: 0.9837 - val_loss: 0.0937 - val_accuracy: 0.9744\n",
            "Epoch 24/100\n",
            "1250/1250 [==============================] - 4s 3ms/step - loss: 0.0650 - accuracy: 0.9844 - val_loss: 0.0924 - val_accuracy: 0.9745\n",
            "Epoch 25/100\n",
            "1250/1250 [==============================] - 4s 3ms/step - loss: 0.0630 - accuracy: 0.9848 - val_loss: 0.0912 - val_accuracy: 0.9742\n",
            "Epoch 26/100\n",
            "1250/1250 [==============================] - 3s 3ms/step - loss: 0.0611 - accuracy: 0.9855 - val_loss: 0.0896 - val_accuracy: 0.9757\n",
            "Epoch 27/100\n",
            "1250/1250 [==============================] - 3s 3ms/step - loss: 0.0592 - accuracy: 0.9858 - val_loss: 0.0901 - val_accuracy: 0.9750\n",
            "Epoch 28/100\n",
            "1250/1250 [==============================] - 4s 3ms/step - loss: 0.0576 - accuracy: 0.9863 - val_loss: 0.0881 - val_accuracy: 0.9762\n",
            "Epoch 29/100\n",
            "1250/1250 [==============================] - 4s 3ms/step - loss: 0.0559 - accuracy: 0.9872 - val_loss: 0.0873 - val_accuracy: 0.9760\n",
            "Epoch 30/100\n",
            "1250/1250 [==============================] - 4s 3ms/step - loss: 0.0543 - accuracy: 0.9873 - val_loss: 0.0861 - val_accuracy: 0.9763\n",
            "Epoch 31/100\n",
            "1250/1250 [==============================] - 3s 3ms/step - loss: 0.0529 - accuracy: 0.9877 - val_loss: 0.0850 - val_accuracy: 0.9768\n",
            "Epoch 32/100\n",
            "1250/1250 [==============================] - 4s 3ms/step - loss: 0.0514 - accuracy: 0.9880 - val_loss: 0.0845 - val_accuracy: 0.9769\n",
            "Epoch 33/100\n",
            "1250/1250 [==============================] - 3s 3ms/step - loss: 0.0500 - accuracy: 0.9887 - val_loss: 0.0842 - val_accuracy: 0.9769\n",
            "Epoch 34/100\n",
            "1250/1250 [==============================] - 3s 3ms/step - loss: 0.0486 - accuracy: 0.9888 - val_loss: 0.0834 - val_accuracy: 0.9774\n",
            "Epoch 35/100\n",
            "1250/1250 [==============================] - 4s 3ms/step - loss: 0.0473 - accuracy: 0.9894 - val_loss: 0.0826 - val_accuracy: 0.9780\n",
            "Epoch 36/100\n",
            "1250/1250 [==============================] - 4s 3ms/step - loss: 0.0461 - accuracy: 0.9898 - val_loss: 0.0820 - val_accuracy: 0.9781\n",
            "Epoch 37/100\n",
            "1250/1250 [==============================] - 3s 3ms/step - loss: 0.0449 - accuracy: 0.9897 - val_loss: 0.0819 - val_accuracy: 0.9783\n",
            "Epoch 38/100\n",
            "1250/1250 [==============================] - 4s 3ms/step - loss: 0.0437 - accuracy: 0.9902 - val_loss: 0.0814 - val_accuracy: 0.9784\n",
            "Epoch 39/100\n",
            "1250/1250 [==============================] - 4s 3ms/step - loss: 0.0426 - accuracy: 0.9905 - val_loss: 0.0803 - val_accuracy: 0.9782\n",
            "Epoch 40/100\n",
            "1250/1250 [==============================] - 4s 3ms/step - loss: 0.0416 - accuracy: 0.9908 - val_loss: 0.0795 - val_accuracy: 0.9779\n",
            "Epoch 41/100\n",
            "1250/1250 [==============================] - 4s 3ms/step - loss: 0.0406 - accuracy: 0.9909 - val_loss: 0.0791 - val_accuracy: 0.9783\n",
            "Epoch 42/100\n",
            "1250/1250 [==============================] - 4s 3ms/step - loss: 0.0395 - accuracy: 0.9914 - val_loss: 0.0787 - val_accuracy: 0.9783\n",
            "Epoch 43/100\n",
            "1250/1250 [==============================] - 4s 3ms/step - loss: 0.0386 - accuracy: 0.9917 - val_loss: 0.0789 - val_accuracy: 0.9785\n",
            "Epoch 44/100\n",
            "1250/1250 [==============================] - 4s 3ms/step - loss: 0.0376 - accuracy: 0.9923 - val_loss: 0.0782 - val_accuracy: 0.9788\n",
            "Epoch 45/100\n",
            "1250/1250 [==============================] - 4s 3ms/step - loss: 0.0367 - accuracy: 0.9922 - val_loss: 0.0778 - val_accuracy: 0.9788\n",
            "Epoch 46/100\n",
            "1250/1250 [==============================] - 4s 3ms/step - loss: 0.0358 - accuracy: 0.9926 - val_loss: 0.0776 - val_accuracy: 0.9785\n",
            "Epoch 47/100\n",
            "1250/1250 [==============================] - 4s 3ms/step - loss: 0.0350 - accuracy: 0.9927 - val_loss: 0.0775 - val_accuracy: 0.9788\n",
            "Epoch 48/100\n",
            "1250/1250 [==============================] - 3s 3ms/step - loss: 0.0342 - accuracy: 0.9933 - val_loss: 0.0768 - val_accuracy: 0.9791\n",
            "Epoch 49/100\n",
            "1250/1250 [==============================] - 4s 3ms/step - loss: 0.0334 - accuracy: 0.9933 - val_loss: 0.0763 - val_accuracy: 0.9793\n",
            "Epoch 50/100\n",
            "1250/1250 [==============================] - 4s 3ms/step - loss: 0.0326 - accuracy: 0.9936 - val_loss: 0.0762 - val_accuracy: 0.9793\n",
            "Epoch 51/100\n",
            "1250/1250 [==============================] - 4s 3ms/step - loss: 0.0318 - accuracy: 0.9940 - val_loss: 0.0756 - val_accuracy: 0.9795\n",
            "Epoch 52/100\n",
            "1250/1250 [==============================] - 4s 3ms/step - loss: 0.0311 - accuracy: 0.9940 - val_loss: 0.0766 - val_accuracy: 0.9792\n",
            "Epoch 53/100\n",
            "1250/1250 [==============================] - 4s 3ms/step - loss: 0.0304 - accuracy: 0.9942 - val_loss: 0.0761 - val_accuracy: 0.9797\n",
            "Epoch 54/100\n",
            "1250/1250 [==============================] - 4s 3ms/step - loss: 0.0297 - accuracy: 0.9944 - val_loss: 0.0752 - val_accuracy: 0.9793\n",
            "Epoch 55/100\n",
            "1250/1250 [==============================] - 4s 3ms/step - loss: 0.0291 - accuracy: 0.9948 - val_loss: 0.0747 - val_accuracy: 0.9801\n",
            "Epoch 56/100\n",
            "1250/1250 [==============================] - 4s 3ms/step - loss: 0.0284 - accuracy: 0.9948 - val_loss: 0.0745 - val_accuracy: 0.9798\n",
            "Epoch 57/100\n",
            "1250/1250 [==============================] - 4s 3ms/step - loss: 0.0279 - accuracy: 0.9950 - val_loss: 0.0746 - val_accuracy: 0.9799\n",
            "Epoch 58/100\n",
            "1250/1250 [==============================] - 4s 4ms/step - loss: 0.0272 - accuracy: 0.9951 - val_loss: 0.0745 - val_accuracy: 0.9800\n",
            "Epoch 59/100\n",
            "1250/1250 [==============================] - 4s 3ms/step - loss: 0.0266 - accuracy: 0.9953 - val_loss: 0.0739 - val_accuracy: 0.9796\n",
            "Epoch 60/100\n",
            "1250/1250 [==============================] - 4s 3ms/step - loss: 0.0261 - accuracy: 0.9955 - val_loss: 0.0746 - val_accuracy: 0.9799\n",
            "Epoch 61/100\n",
            "1250/1250 [==============================] - 3s 3ms/step - loss: 0.0255 - accuracy: 0.9956 - val_loss: 0.0740 - val_accuracy: 0.9803\n",
            "Epoch 62/100\n",
            "1250/1250 [==============================] - 3s 3ms/step - loss: 0.0250 - accuracy: 0.9959 - val_loss: 0.0735 - val_accuracy: 0.9800\n",
            "Epoch 63/100\n",
            "1250/1250 [==============================] - 3s 3ms/step - loss: 0.0245 - accuracy: 0.9958 - val_loss: 0.0735 - val_accuracy: 0.9802\n",
            "Epoch 64/100\n",
            "1250/1250 [==============================] - 3s 3ms/step - loss: 0.0239 - accuracy: 0.9962 - val_loss: 0.0737 - val_accuracy: 0.9801\n",
            "Epoch 65/100\n",
            "1250/1250 [==============================] - 3s 3ms/step - loss: 0.0234 - accuracy: 0.9963 - val_loss: 0.0733 - val_accuracy: 0.9803\n",
            "Epoch 66/100\n",
            "1250/1250 [==============================] - 3s 3ms/step - loss: 0.0230 - accuracy: 0.9962 - val_loss: 0.0731 - val_accuracy: 0.9799\n",
            "Epoch 67/100\n",
            "1250/1250 [==============================] - 3s 3ms/step - loss: 0.0225 - accuracy: 0.9964 - val_loss: 0.0730 - val_accuracy: 0.9804\n",
            "Epoch 68/100\n",
            "1250/1250 [==============================] - 3s 3ms/step - loss: 0.0220 - accuracy: 0.9965 - val_loss: 0.0728 - val_accuracy: 0.9803\n",
            "Epoch 69/100\n",
            "1250/1250 [==============================] - 3s 3ms/step - loss: 0.0216 - accuracy: 0.9966 - val_loss: 0.0727 - val_accuracy: 0.9803\n",
            "Epoch 70/100\n",
            "1250/1250 [==============================] - 3s 3ms/step - loss: 0.0212 - accuracy: 0.9969 - val_loss: 0.0725 - val_accuracy: 0.9801\n",
            "Epoch 71/100\n",
            "1250/1250 [==============================] - 3s 3ms/step - loss: 0.0207 - accuracy: 0.9968 - val_loss: 0.0725 - val_accuracy: 0.9803\n",
            "Epoch 72/100\n",
            "1250/1250 [==============================] - 3s 3ms/step - loss: 0.0204 - accuracy: 0.9969 - val_loss: 0.0724 - val_accuracy: 0.9808\n",
            "Epoch 73/100\n",
            "1250/1250 [==============================] - 4s 3ms/step - loss: 0.0199 - accuracy: 0.9971 - val_loss: 0.0723 - val_accuracy: 0.9805\n",
            "Epoch 74/100\n",
            "1250/1250 [==============================] - 4s 4ms/step - loss: 0.0196 - accuracy: 0.9973 - val_loss: 0.0721 - val_accuracy: 0.9809\n",
            "Epoch 75/100\n",
            "1250/1250 [==============================] - 4s 3ms/step - loss: 0.0192 - accuracy: 0.9973 - val_loss: 0.0720 - val_accuracy: 0.9805\n",
            "Epoch 76/100\n",
            "1250/1250 [==============================] - 4s 3ms/step - loss: 0.0188 - accuracy: 0.9973 - val_loss: 0.0722 - val_accuracy: 0.9804\n",
            "Epoch 77/100\n",
            "1250/1250 [==============================] - 4s 3ms/step - loss: 0.0185 - accuracy: 0.9975 - val_loss: 0.0722 - val_accuracy: 0.9806\n",
            "Epoch 78/100\n",
            "1250/1250 [==============================] - 4s 3ms/step - loss: 0.0181 - accuracy: 0.9976 - val_loss: 0.0719 - val_accuracy: 0.9808\n",
            "Epoch 79/100\n",
            "1250/1250 [==============================] - 4s 3ms/step - loss: 0.0178 - accuracy: 0.9976 - val_loss: 0.0720 - val_accuracy: 0.9805\n",
            "Epoch 80/100\n",
            "1250/1250 [==============================] - 4s 3ms/step - loss: 0.0174 - accuracy: 0.9977 - val_loss: 0.0716 - val_accuracy: 0.9806\n",
            "Epoch 81/100\n",
            "1250/1250 [==============================] - 5s 4ms/step - loss: 0.0171 - accuracy: 0.9979 - val_loss: 0.0721 - val_accuracy: 0.9803\n",
            "Epoch 82/100\n",
            "1250/1250 [==============================] - 3s 3ms/step - loss: 0.0168 - accuracy: 0.9979 - val_loss: 0.0718 - val_accuracy: 0.9805\n",
            "Epoch 83/100\n",
            "1250/1250 [==============================] - 4s 3ms/step - loss: 0.0165 - accuracy: 0.9979 - val_loss: 0.0716 - val_accuracy: 0.9809\n",
            "Epoch 84/100\n",
            "1250/1250 [==============================] - 4s 3ms/step - loss: 0.0162 - accuracy: 0.9981 - val_loss: 0.0717 - val_accuracy: 0.9811\n",
            "Epoch 85/100\n",
            "1250/1250 [==============================] - 3s 3ms/step - loss: 0.0159 - accuracy: 0.9981 - val_loss: 0.0718 - val_accuracy: 0.9806\n",
            "Epoch 86/100\n",
            "1250/1250 [==============================] - 4s 3ms/step - loss: 0.0157 - accuracy: 0.9982 - val_loss: 0.0716 - val_accuracy: 0.9812\n",
            "Epoch 87/100\n",
            "1250/1250 [==============================] - 4s 3ms/step - loss: 0.0153 - accuracy: 0.9982 - val_loss: 0.0718 - val_accuracy: 0.9805\n",
            "Epoch 88/100\n",
            "1250/1250 [==============================] - 3s 3ms/step - loss: 0.0151 - accuracy: 0.9981 - val_loss: 0.0719 - val_accuracy: 0.9814\n",
            "Epoch 89/100\n",
            "1250/1250 [==============================] - 4s 3ms/step - loss: 0.0148 - accuracy: 0.9983 - val_loss: 0.0717 - val_accuracy: 0.9813\n",
            "Epoch 90/100\n",
            "1250/1250 [==============================] - 5s 4ms/step - loss: 0.0145 - accuracy: 0.9984 - val_loss: 0.0717 - val_accuracy: 0.9812\n",
            "Epoch 91/100\n",
            "1250/1250 [==============================] - 4s 3ms/step - loss: 0.0143 - accuracy: 0.9984 - val_loss: 0.0716 - val_accuracy: 0.9810\n",
            "Epoch 92/100\n",
            "1250/1250 [==============================] - 4s 4ms/step - loss: 0.0140 - accuracy: 0.9985 - val_loss: 0.0715 - val_accuracy: 0.9805\n",
            "Epoch 93/100\n",
            "1250/1250 [==============================] - 4s 3ms/step - loss: 0.0138 - accuracy: 0.9986 - val_loss: 0.0718 - val_accuracy: 0.9806\n",
            "Epoch 94/100\n",
            "1250/1250 [==============================] - 4s 3ms/step - loss: 0.0136 - accuracy: 0.9985 - val_loss: 0.0716 - val_accuracy: 0.9809\n",
            "Epoch 95/100\n",
            "1250/1250 [==============================] - 4s 3ms/step - loss: 0.0134 - accuracy: 0.9987 - val_loss: 0.0716 - val_accuracy: 0.9810\n",
            "Epoch 96/100\n",
            "1250/1250 [==============================] - 4s 3ms/step - loss: 0.0131 - accuracy: 0.9987 - val_loss: 0.0716 - val_accuracy: 0.9805\n",
            "Epoch 97/100\n",
            "1250/1250 [==============================] - 4s 3ms/step - loss: 0.0129 - accuracy: 0.9987 - val_loss: 0.0713 - val_accuracy: 0.9809\n",
            "Epoch 98/100\n",
            "1250/1250 [==============================] - 4s 3ms/step - loss: 0.0127 - accuracy: 0.9988 - val_loss: 0.0716 - val_accuracy: 0.9809\n",
            "Epoch 99/100\n",
            "1250/1250 [==============================] - 4s 3ms/step - loss: 0.0125 - accuracy: 0.9988 - val_loss: 0.0717 - val_accuracy: 0.9808\n",
            "Epoch 100/100\n",
            "1250/1250 [==============================] - 4s 4ms/step - loss: 0.0123 - accuracy: 0.9988 - val_loss: 0.0715 - val_accuracy: 0.9807\n"
          ]
        }
      ],
      "source": [
        "# Fit the model with training data and validation data\n",
        "history1 = model1.fit(\n",
        "    X_train_normalized,\n",
        "    y_train_onehot,\n",
        "    epochs=100,\n",
        "    batch_size=32,\n",
        "    validation_data=[X_valid_normalized, y_valid_onehot],\n",
        "    callbacks=[early_stopping],\n",
        ")"
      ]
    },
    {
      "cell_type": "code",
      "execution_count": 17,
      "metadata": {
        "colab": {
          "base_uri": "https://localhost:8080/"
        },
        "id": "ZzDkY3K1Amxg",
        "outputId": "79f7b74f-b683-43b9-abb0-fb51796c30d6"
      },
      "outputs": [
        {
          "name": "stdout",
          "output_type": "stream",
          "text": [
            "313/313 [==============================] - 1s 2ms/step - loss: 0.0715 - accuracy: 0.9807\n",
            "Model 1. Validation Loss: 0.0715, Validation Accuracy: 98.07%\n"
          ]
        }
      ],
      "source": [
        "# Final accuracy on validation data\n",
        "loss_val1, accuracy_val1 = model1.evaluate(X_valid_normalized, y_valid_onehot)\n",
        "print(f\"Model 1. Validation Loss: {loss_val1:.4f}, Validation Accuracy: {accuracy_val1 * 100:.2f}%\")"
      ]
    },
    {
      "cell_type": "code",
      "execution_count": 18,
      "metadata": {
        "colab": {
          "base_uri": "https://localhost:8080/",
          "height": 487
        },
        "id": "EpNGwUkKAmxh",
        "outputId": "1830ef4f-dd5e-4daf-8bac-e38818f28bd1"
      },
      "outputs": [
        {
          "data": {
            "image/png": "[encoded data removed]",
            "text/plain": [
              "<Figure size 640x480 with 1 Axes>"
            ]
          },
          "metadata": {},
          "output_type": "display_data"
        }
      ],
      "source": [
        "# Plot training and validation accuracy\n",
        "tr_acc1 = history1.history['accuracy']\n",
        "val_acc1 = history1.history['val_accuracy']\n",
        "\n",
        "epochs = [i + 1 for i in range(len(tr_acc1))]\n",
        "plt.plot(epochs, tr_acc1, 'r', label=\"Accuracy on train data\")\n",
        "plt.plot(epochs, val_acc1, 'g', label=\"Accuracy on validation data\")\n",
        "plt.title(\"Accuracy (model 1)\")\n",
        "plt.legend()\n",
        "plt.xlabel('Epochs')\n",
        "plt.ylabel('Accuracy')\n",
        "\n",
        "plt.tight_layout()\n",
        "plt.show()"
      ]
    },
    {
      "cell_type": "markdown",
      "metadata": {
        "id": "7xB9eSCLAmxh"
      },
      "source": [
        "#### Model 2"
      ]
    },
    {
      "cell_type": "code",
      "execution_count": 19,
      "metadata": {
        "id": "Zn6E3bjTAmxh"
      },
      "outputs": [],
      "source": [
        "model2 = Sequential()\n",
        "\n",
        "# Add a dense layer with 64 neurons and ReLU activation\n",
        "model2.add(Dense(64, activation='relu', name='Hidden'))\n",
        "\n",
        "# Add a dense layer with 10 neurons and softmax activation\n",
        "model2.add(Dense(10, activation='softmax', name='Output'))"
      ]
    },
    {
      "cell_type": "code",
      "execution_count": 20,
      "metadata": {
        "id": "GA9RxpNqAmxi"
      },
      "outputs": [],
      "source": [
        "# Compile the model\n",
        "sgd_optimizer = SGD(learning_rate=0.01)\n",
        "model2.compile(\n",
        "    loss='categorical_crossentropy',\n",
        "    optimizer=sgd_optimizer,\n",
        "    metrics=['accuracy'])\n",
        "\n",
        "# Stop training when validation loss does not improve for 10 epochs\n",
        "early_stopping = EarlyStopping(\n",
        "    monitor='val_loss', patience=10, restore_best_weights=True)"
      ]
    },
    {
      "cell_type": "code",
      "execution_count": 21,
      "metadata": {
        "colab": {
          "base_uri": "https://localhost:8080/"
        },
        "id": "Q8CeSTm2Amxi",
        "outputId": "40b67d34-706a-4b07-d3de-3c03d6a4e053"
      },
      "outputs": [
        {
          "name": "stdout",
          "output_type": "stream",
          "text": [
            "Epoch 1/100\n"
          ]
        },
        {
          "name": "stderr",
          "output_type": "stream",
          "text": [
            "2023-11-11 12:26:10.003188: W tensorflow/tsl/framework/cpu_allocator_impl.cc:83] Allocation of 615040000 exceeds 10% of free system memory.\n"
          ]
        },
        {
          "name": "stdout",
          "output_type": "stream",
          "text": [
            "1250/1250 [==============================] - 5s 4ms/step - loss: 0.4402 - accuracy: 0.8931 - val_loss: 0.2502 - val_accuracy: 0.9301\n",
            "Epoch 2/100\n",
            "1250/1250 [==============================] - 4s 3ms/step - loss: 0.2165 - accuracy: 0.9430 - val_loss: 0.2024 - val_accuracy: 0.9447\n",
            "Epoch 3/100\n",
            "1250/1250 [==============================] - 4s 3ms/step - loss: 0.1826 - accuracy: 0.9525 - val_loss: 0.1812 - val_accuracy: 0.9519\n",
            "Epoch 4/100\n",
            "1250/1250 [==============================] - 4s 3ms/step - loss: 0.1623 - accuracy: 0.9576 - val_loss: 0.1650 - val_accuracy: 0.9574\n",
            "Epoch 5/100\n",
            "1250/1250 [==============================] - 4s 3ms/step - loss: 0.1472 - accuracy: 0.9615 - val_loss: 0.1551 - val_accuracy: 0.9591\n",
            "Epoch 6/100\n",
            "1250/1250 [==============================] - 4s 3ms/step - loss: 0.1351 - accuracy: 0.9644 - val_loss: 0.1451 - val_accuracy: 0.9626\n",
            "Epoch 7/100\n",
            "1250/1250 [==============================] - 4s 3ms/step - loss: 0.1248 - accuracy: 0.9676 - val_loss: 0.1392 - val_accuracy: 0.9638\n",
            "Epoch 8/100\n",
            "1250/1250 [==============================] - 4s 3ms/step - loss: 0.1162 - accuracy: 0.9704 - val_loss: 0.1311 - val_accuracy: 0.9663\n",
            "Epoch 9/100\n",
            "1250/1250 [==============================] - 4s 3ms/step - loss: 0.1084 - accuracy: 0.9722 - val_loss: 0.1259 - val_accuracy: 0.9675\n",
            "Epoch 10/100\n",
            "1250/1250 [==============================] - 3s 3ms/step - loss: 0.1018 - accuracy: 0.9745 - val_loss: 0.1201 - val_accuracy: 0.9697\n",
            "Epoch 11/100\n",
            "1250/1250 [==============================] - 3s 3ms/step - loss: 0.0959 - accuracy: 0.9760 - val_loss: 0.1166 - val_accuracy: 0.9702\n",
            "Epoch 12/100\n",
            "1250/1250 [==============================] - 3s 3ms/step - loss: 0.0904 - accuracy: 0.9776 - val_loss: 0.1137 - val_accuracy: 0.9712\n",
            "Epoch 13/100\n",
            "1250/1250 [==============================] - 3s 3ms/step - loss: 0.0853 - accuracy: 0.9787 - val_loss: 0.1095 - val_accuracy: 0.9717\n",
            "Epoch 14/100\n",
            "1250/1250 [==============================] - 4s 3ms/step - loss: 0.0809 - accuracy: 0.9799 - val_loss: 0.1064 - val_accuracy: 0.9727\n",
            "Epoch 15/100\n",
            "1250/1250 [==============================] - 4s 3ms/step - loss: 0.0769 - accuracy: 0.9810 - val_loss: 0.1041 - val_accuracy: 0.9733\n",
            "Epoch 16/100\n",
            "1250/1250 [==============================] - 4s 3ms/step - loss: 0.0732 - accuracy: 0.9822 - val_loss: 0.1017 - val_accuracy: 0.9730\n",
            "Epoch 17/100\n",
            "1250/1250 [==============================] - 4s 4ms/step - loss: 0.0697 - accuracy: 0.9829 - val_loss: 0.0999 - val_accuracy: 0.9743\n",
            "Epoch 18/100\n",
            "1250/1250 [==============================] - 4s 3ms/step - loss: 0.0664 - accuracy: 0.9837 - val_loss: 0.0984 - val_accuracy: 0.9740\n",
            "Epoch 19/100\n",
            "1250/1250 [==============================] - 4s 3ms/step - loss: 0.0636 - accuracy: 0.9846 - val_loss: 0.0967 - val_accuracy: 0.9741\n",
            "Epoch 20/100\n",
            "1250/1250 [==============================] - 4s 3ms/step - loss: 0.0608 - accuracy: 0.9849 - val_loss: 0.0939 - val_accuracy: 0.9757\n",
            "Epoch 21/100\n",
            "1250/1250 [==============================] - 3s 3ms/step - loss: 0.0580 - accuracy: 0.9861 - val_loss: 0.0935 - val_accuracy: 0.9744\n",
            "Epoch 22/100\n",
            "1250/1250 [==============================] - 3s 3ms/step - loss: 0.0556 - accuracy: 0.9861 - val_loss: 0.0918 - val_accuracy: 0.9756\n",
            "Epoch 23/100\n",
            "1250/1250 [==============================] - 3s 2ms/step - loss: 0.0535 - accuracy: 0.9869 - val_loss: 0.0898 - val_accuracy: 0.9760\n",
            "Epoch 24/100\n",
            "1250/1250 [==============================] - 3s 2ms/step - loss: 0.0512 - accuracy: 0.9876 - val_loss: 0.0887 - val_accuracy: 0.9766\n",
            "Epoch 25/100\n",
            "1250/1250 [==============================] - 3s 2ms/step - loss: 0.0492 - accuracy: 0.9882 - val_loss: 0.0889 - val_accuracy: 0.9771\n",
            "Epoch 26/100\n",
            "1250/1250 [==============================] - 3s 2ms/step - loss: 0.0473 - accuracy: 0.9888 - val_loss: 0.0872 - val_accuracy: 0.9764\n",
            "Epoch 27/100\n",
            "1250/1250 [==============================] - 3s 2ms/step - loss: 0.0454 - accuracy: 0.9889 - val_loss: 0.0858 - val_accuracy: 0.9772\n",
            "Epoch 28/100\n",
            "1250/1250 [==============================] - 3s 2ms/step - loss: 0.0438 - accuracy: 0.9899 - val_loss: 0.0857 - val_accuracy: 0.9769\n",
            "Epoch 29/100\n",
            "1250/1250 [==============================] - 3s 2ms/step - loss: 0.0421 - accuracy: 0.9902 - val_loss: 0.0842 - val_accuracy: 0.9779\n",
            "Epoch 30/100\n",
            "1250/1250 [==============================] - 3s 2ms/step - loss: 0.0406 - accuracy: 0.9909 - val_loss: 0.0839 - val_accuracy: 0.9777\n",
            "Epoch 31/100\n",
            "1250/1250 [==============================] - 4s 3ms/step - loss: 0.0391 - accuracy: 0.9914 - val_loss: 0.0841 - val_accuracy: 0.9780\n",
            "Epoch 32/100\n",
            "1250/1250 [==============================] - 3s 2ms/step - loss: 0.0377 - accuracy: 0.9916 - val_loss: 0.0834 - val_accuracy: 0.9775\n",
            "Epoch 33/100\n",
            "1250/1250 [==============================] - 3s 2ms/step - loss: 0.0364 - accuracy: 0.9922 - val_loss: 0.0822 - val_accuracy: 0.9784\n",
            "Epoch 34/100\n",
            "1250/1250 [==============================] - 3s 2ms/step - loss: 0.0352 - accuracy: 0.9923 - val_loss: 0.0819 - val_accuracy: 0.9778\n",
            "Epoch 35/100\n",
            "1250/1250 [==============================] - 3s 2ms/step - loss: 0.0340 - accuracy: 0.9929 - val_loss: 0.0819 - val_accuracy: 0.9784\n",
            "Epoch 36/100\n",
            "1250/1250 [==============================] - 3s 3ms/step - loss: 0.0328 - accuracy: 0.9933 - val_loss: 0.0811 - val_accuracy: 0.9784\n",
            "Epoch 37/100\n",
            "1250/1250 [==============================] - 3s 2ms/step - loss: 0.0318 - accuracy: 0.9936 - val_loss: 0.0816 - val_accuracy: 0.9788\n",
            "Epoch 38/100\n",
            "1250/1250 [==============================] - 3s 3ms/step - loss: 0.0308 - accuracy: 0.9940 - val_loss: 0.0807 - val_accuracy: 0.9787\n",
            "Epoch 39/100\n",
            "1250/1250 [==============================] - 3s 3ms/step - loss: 0.0298 - accuracy: 0.9944 - val_loss: 0.0810 - val_accuracy: 0.9786\n",
            "Epoch 40/100\n",
            "1250/1250 [==============================] - 3s 3ms/step - loss: 0.0287 - accuracy: 0.9948 - val_loss: 0.0809 - val_accuracy: 0.9786\n",
            "Epoch 41/100\n",
            "1250/1250 [==============================] - 3s 3ms/step - loss: 0.0279 - accuracy: 0.9949 - val_loss: 0.0796 - val_accuracy: 0.9791\n",
            "Epoch 42/100\n",
            "1250/1250 [==============================] - 3s 2ms/step - loss: 0.0270 - accuracy: 0.9950 - val_loss: 0.0796 - val_accuracy: 0.9785\n",
            "Epoch 43/100\n",
            "1250/1250 [==============================] - 3s 2ms/step - loss: 0.0261 - accuracy: 0.9951 - val_loss: 0.0790 - val_accuracy: 0.9786\n",
            "Epoch 44/100\n",
            "1250/1250 [==============================] - 3s 2ms/step - loss: 0.0254 - accuracy: 0.9955 - val_loss: 0.0787 - val_accuracy: 0.9791\n",
            "Epoch 45/100\n",
            "1250/1250 [==============================] - 3s 2ms/step - loss: 0.0247 - accuracy: 0.9956 - val_loss: 0.0788 - val_accuracy: 0.9790\n",
            "Epoch 46/100\n",
            "1250/1250 [==============================] - 3s 2ms/step - loss: 0.0239 - accuracy: 0.9959 - val_loss: 0.0785 - val_accuracy: 0.9790\n",
            "Epoch 47/100\n",
            "1250/1250 [==============================] - 3s 2ms/step - loss: 0.0232 - accuracy: 0.9961 - val_loss: 0.0789 - val_accuracy: 0.9790\n",
            "Epoch 48/100\n",
            "1250/1250 [==============================] - 3s 3ms/step - loss: 0.0224 - accuracy: 0.9963 - val_loss: 0.0790 - val_accuracy: 0.9794\n",
            "Epoch 49/100\n",
            "1250/1250 [==============================] - 4s 3ms/step - loss: 0.0218 - accuracy: 0.9963 - val_loss: 0.0784 - val_accuracy: 0.9791\n",
            "Epoch 50/100\n",
            "1250/1250 [==============================] - 4s 4ms/step - loss: 0.0212 - accuracy: 0.9966 - val_loss: 0.0788 - val_accuracy: 0.9784\n",
            "Epoch 51/100\n",
            "1250/1250 [==============================] - 4s 3ms/step - loss: 0.0207 - accuracy: 0.9968 - val_loss: 0.0789 - val_accuracy: 0.9791\n",
            "Epoch 52/100\n",
            "1250/1250 [==============================] - 4s 3ms/step - loss: 0.0200 - accuracy: 0.9968 - val_loss: 0.0786 - val_accuracy: 0.9794\n",
            "Epoch 53/100\n",
            "1250/1250 [==============================] - 5s 4ms/step - loss: 0.0194 - accuracy: 0.9971 - val_loss: 0.0786 - val_accuracy: 0.9785\n",
            "Epoch 54/100\n",
            "1250/1250 [==============================] - 4s 3ms/step - loss: 0.0190 - accuracy: 0.9972 - val_loss: 0.0779 - val_accuracy: 0.9789\n",
            "Epoch 55/100\n",
            "1250/1250 [==============================] - 3s 3ms/step - loss: 0.0185 - accuracy: 0.9974 - val_loss: 0.0782 - val_accuracy: 0.9796\n",
            "Epoch 56/100\n",
            "1250/1250 [==============================] - 4s 3ms/step - loss: 0.0180 - accuracy: 0.9976 - val_loss: 0.0778 - val_accuracy: 0.9795\n",
            "Epoch 57/100\n",
            "1250/1250 [==============================] - 4s 3ms/step - loss: 0.0175 - accuracy: 0.9977 - val_loss: 0.0783 - val_accuracy: 0.9791\n",
            "Epoch 58/100\n",
            "1250/1250 [==============================] - 3s 2ms/step - loss: 0.0170 - accuracy: 0.9978 - val_loss: 0.0784 - val_accuracy: 0.9792\n",
            "Epoch 59/100\n",
            "1250/1250 [==============================] - 3s 3ms/step - loss: 0.0166 - accuracy: 0.9977 - val_loss: 0.0778 - val_accuracy: 0.9791\n",
            "Epoch 60/100\n",
            "1250/1250 [==============================] - 4s 3ms/step - loss: 0.0161 - accuracy: 0.9978 - val_loss: 0.0781 - val_accuracy: 0.9791\n",
            "Epoch 61/100\n",
            "1250/1250 [==============================] - 4s 3ms/step - loss: 0.0157 - accuracy: 0.9979 - val_loss: 0.0780 - val_accuracy: 0.9795\n",
            "Epoch 62/100\n",
            "1250/1250 [==============================] - 3s 3ms/step - loss: 0.0153 - accuracy: 0.9981 - val_loss: 0.0787 - val_accuracy: 0.9793\n",
            "Epoch 63/100\n",
            "1250/1250 [==============================] - 3s 2ms/step - loss: 0.0149 - accuracy: 0.9983 - val_loss: 0.0787 - val_accuracy: 0.9786\n",
            "Epoch 64/100\n",
            "1250/1250 [==============================] - 4s 3ms/step - loss: 0.0145 - accuracy: 0.9983 - val_loss: 0.0782 - val_accuracy: 0.9791\n",
            "Epoch 65/100\n",
            "1250/1250 [==============================] - 4s 4ms/step - loss: 0.0142 - accuracy: 0.9983 - val_loss: 0.0785 - val_accuracy: 0.9800\n",
            "Epoch 66/100\n",
            "1250/1250 [==============================] - 5s 4ms/step - loss: 0.0138 - accuracy: 0.9984 - val_loss: 0.0784 - val_accuracy: 0.9793\n"
          ]
        }
      ],
      "source": [
        "# Fit the model with training data and validation data\n",
        "history2 = model2.fit(\n",
        "    X_train_normalized,\n",
        "    y_train_onehot,\n",
        "    epochs=100,\n",
        "    batch_size=32,\n",
        "    validation_data=[X_valid_normalized, y_valid_onehot],\n",
        "    callbacks=[early_stopping],\n",
        ")"
      ]
    },
    {
      "cell_type": "code",
      "execution_count": 22,
      "metadata": {
        "colab": {
          "base_uri": "https://localhost:8080/"
        },
        "id": "RyT91p7tAmxi",
        "outputId": "00f16bd4-d8cf-4a25-bc9a-27a03b5bb4e4"
      },
      "outputs": [
        {
          "name": "stdout",
          "output_type": "stream",
          "text": [
            "313/313 [==============================] - 1s 2ms/step - loss: 0.0778 - accuracy: 0.9795\n",
            "Model 2. Validation Loss: 0.0778, Validation Accuracy: 97.95%\n"
          ]
        }
      ],
      "source": [
        "# Final accuracy on validation data\n",
        "loss_val2, accuracy_val2 = model2.evaluate(X_valid_normalized, y_valid_onehot)\n",
        "print(f\"Model 2. Validation Loss: {loss_val2:.4f}, Validation Accuracy: {accuracy_val2 * 100:.2f}%\")"
      ]
    },
    {
      "cell_type": "code",
      "execution_count": 23,
      "metadata": {
        "colab": {
          "base_uri": "https://localhost:8080/",
          "height": 487
        },
        "id": "5kATbCTGAmxi",
        "outputId": "8fa9f2f4-3f64-4353-ee8c-de88a1cc629c"
      },
      "outputs": [
        {
          "data": {
            "image/png": "[encoded data removed]",
            "text/plain": [
              "<Figure size 640x480 with 1 Axes>"
            ]
          },
          "metadata": {},
          "output_type": "display_data"
        }
      ],
      "source": [
        "# Plot training and validation accuracy\n",
        "tr_acc2 = history2.history['accuracy']\n",
        "val_acc2 = history2.history['val_accuracy']\n",
        "\n",
        "epochs = [i + 1 for i in range(len(tr_acc2))]\n",
        "plt.plot(epochs, tr_acc2, 'r', label='Accuracy on train data')\n",
        "plt.plot(epochs, val_acc2, 'g', label='Accuracy on validation data')\n",
        "plt.title('Accuracy (model 2)')\n",
        "plt.legend()\n",
        "plt.xlabel('Epochs')\n",
        "plt.ylabel('Accuracy')\n",
        "\n",
        "plt.tight_layout()\n",
        "plt.show()"
      ]
    },
    {
      "cell_type": "markdown",
      "metadata": {
        "id": "gzn7pd0eAmxj"
      },
      "source": [
        "#### Model 3"
      ]
    },
    {
      "cell_type": "code",
      "execution_count": 24,
      "metadata": {
        "id": "DI9n14_SAmxj"
      },
      "outputs": [],
      "source": [
        "model3 = Sequential()\n",
        "\n",
        "# Add a dense layer with 64 neurons and ReLU activation\n",
        "model3.add(Dense(64, activation='relu', name='Hidden_1'))\n",
        "\n",
        "# Add a dense layer with 256 neurons and ReLU activation\n",
        "model3.add(Dense(256, activation='relu', name='Hidden_2'))\n",
        "\n",
        "# Add a dense layer with 10 neurons and softmax activation\n",
        "model3.add(Dense(10, activation='softmax', name='Output'))"
      ]
    },
    {
      "cell_type": "code",
      "execution_count": 25,
      "metadata": {
        "id": "V7Vl70S6Amxj"
      },
      "outputs": [],
      "source": [
        "# Compile the model\n",
        "sgd_optimizer = SGD(learning_rate=0.01)\n",
        "model3.compile(\n",
        "    loss='categorical_crossentropy',\n",
        "    optimizer=sgd_optimizer,\n",
        "    metrics=['accuracy'])\n",
        "\n",
        "# Stop training when validation loss does not improve for 10 epochs\n",
        "early_stopping = EarlyStopping(\n",
        "    monitor='val_loss', patience=10, restore_best_weights=True)"
      ]
    },
    {
      "cell_type": "code",
      "execution_count": 26,
      "metadata": {
        "id": "PDH1kzB4Amxk"
      },
      "outputs": [
        {
          "name": "stdout",
          "output_type": "stream",
          "text": [
            "Epoch 1/100\n"
          ]
        },
        {
          "name": "stderr",
          "output_type": "stream",
          "text": [
            "2023-11-11 12:30:07.191261: W tensorflow/tsl/framework/cpu_allocator_impl.cc:83] Allocation of 615040000 exceeds 10% of free system memory.\n"
          ]
        },
        {
          "name": "stdout",
          "output_type": "stream",
          "text": [
            "1250/1250 [==============================] - 5s 4ms/step - loss: 0.5502 - accuracy: 0.8660 - val_loss: 0.2404 - val_accuracy: 0.9329\n",
            "Epoch 2/100\n",
            "1250/1250 [==============================] - 4s 4ms/step - loss: 0.2030 - accuracy: 0.9439 - val_loss: 0.1873 - val_accuracy: 0.9470\n",
            "Epoch 3/100\n",
            "1250/1250 [==============================] - 4s 4ms/step - loss: 0.1645 - accuracy: 0.9557 - val_loss: 0.1627 - val_accuracy: 0.9550\n",
            "Epoch 4/100\n",
            "1250/1250 [==============================] - 4s 3ms/step - loss: 0.1418 - accuracy: 0.9626 - val_loss: 0.1451 - val_accuracy: 0.9600\n",
            "Epoch 5/100\n",
            "1250/1250 [==============================] - 4s 3ms/step - loss: 0.1251 - accuracy: 0.9670 - val_loss: 0.1319 - val_accuracy: 0.9633\n",
            "Epoch 6/100\n",
            "1250/1250 [==============================] - 5s 4ms/step - loss: 0.1112 - accuracy: 0.9703 - val_loss: 0.1237 - val_accuracy: 0.9666\n",
            "Epoch 7/100\n",
            "1250/1250 [==============================] - 5s 4ms/step - loss: 0.0999 - accuracy: 0.9734 - val_loss: 0.1162 - val_accuracy: 0.9681\n",
            "Epoch 8/100\n",
            "1250/1250 [==============================] - 5s 4ms/step - loss: 0.0909 - accuracy: 0.9763 - val_loss: 0.1100 - val_accuracy: 0.9692\n",
            "Epoch 9/100\n",
            "1250/1250 [==============================] - 5s 4ms/step - loss: 0.0829 - accuracy: 0.9785 - val_loss: 0.1034 - val_accuracy: 0.9721\n",
            "Epoch 10/100\n",
            "1250/1250 [==============================] - 5s 4ms/step - loss: 0.0758 - accuracy: 0.9805 - val_loss: 0.0966 - val_accuracy: 0.9743\n",
            "Epoch 11/100\n",
            "1250/1250 [==============================] - 4s 3ms/step - loss: 0.0698 - accuracy: 0.9822 - val_loss: 0.0936 - val_accuracy: 0.9755\n",
            "Epoch 12/100\n",
            "1250/1250 [==============================] - 3s 3ms/step - loss: 0.0645 - accuracy: 0.9835 - val_loss: 0.0948 - val_accuracy: 0.9733\n",
            "Epoch 13/100\n",
            "1250/1250 [==============================] - 4s 3ms/step - loss: 0.0601 - accuracy: 0.9842 - val_loss: 0.0895 - val_accuracy: 0.9755\n",
            "Epoch 14/100\n",
            "1250/1250 [==============================] - 4s 3ms/step - loss: 0.0555 - accuracy: 0.9862 - val_loss: 0.0853 - val_accuracy: 0.9775\n",
            "Epoch 15/100\n",
            "1250/1250 [==============================] - 4s 3ms/step - loss: 0.0518 - accuracy: 0.9866 - val_loss: 0.0843 - val_accuracy: 0.9770\n",
            "Epoch 16/100\n",
            "1250/1250 [==============================] - 4s 4ms/step - loss: 0.0483 - accuracy: 0.9878 - val_loss: 0.0812 - val_accuracy: 0.9782\n",
            "Epoch 17/100\n",
            "1250/1250 [==============================] - 4s 3ms/step - loss: 0.0453 - accuracy: 0.9884 - val_loss: 0.0795 - val_accuracy: 0.9778\n",
            "Epoch 18/100\n",
            "1250/1250 [==============================] - 4s 3ms/step - loss: 0.0419 - accuracy: 0.9895 - val_loss: 0.0795 - val_accuracy: 0.9780\n",
            "Epoch 19/100\n",
            "1250/1250 [==============================] - 4s 3ms/step - loss: 0.0392 - accuracy: 0.9904 - val_loss: 0.0778 - val_accuracy: 0.9782\n",
            "Epoch 20/100\n",
            "1250/1250 [==============================] - 4s 3ms/step - loss: 0.0368 - accuracy: 0.9905 - val_loss: 0.0781 - val_accuracy: 0.9787\n",
            "Epoch 21/100\n",
            "1250/1250 [==============================] - 4s 3ms/step - loss: 0.0343 - accuracy: 0.9916 - val_loss: 0.0763 - val_accuracy: 0.9800\n",
            "Epoch 22/100\n",
            "1250/1250 [==============================] - 4s 3ms/step - loss: 0.0322 - accuracy: 0.9925 - val_loss: 0.0760 - val_accuracy: 0.9796\n",
            "Epoch 23/100\n",
            "1250/1250 [==============================] - 4s 3ms/step - loss: 0.0302 - accuracy: 0.9929 - val_loss: 0.0779 - val_accuracy: 0.9785\n",
            "Epoch 24/100\n",
            "1250/1250 [==============================] - 4s 3ms/step - loss: 0.0281 - accuracy: 0.9938 - val_loss: 0.0753 - val_accuracy: 0.9794\n",
            "Epoch 25/100\n",
            "1250/1250 [==============================] - 4s 3ms/step - loss: 0.0264 - accuracy: 0.9942 - val_loss: 0.0745 - val_accuracy: 0.9804\n",
            "Epoch 26/100\n",
            "1250/1250 [==============================] - 4s 3ms/step - loss: 0.0249 - accuracy: 0.9947 - val_loss: 0.0744 - val_accuracy: 0.9805\n",
            "Epoch 27/100\n",
            "1250/1250 [==============================] - 4s 3ms/step - loss: 0.0233 - accuracy: 0.9951 - val_loss: 0.0738 - val_accuracy: 0.9803\n",
            "Epoch 28/100\n",
            "1250/1250 [==============================] - 3s 3ms/step - loss: 0.0220 - accuracy: 0.9958 - val_loss: 0.0740 - val_accuracy: 0.9804\n",
            "Epoch 29/100\n",
            "1250/1250 [==============================] - 4s 3ms/step - loss: 0.0206 - accuracy: 0.9960 - val_loss: 0.0770 - val_accuracy: 0.9786\n",
            "Epoch 30/100\n",
            "1250/1250 [==============================] - 4s 3ms/step - loss: 0.0194 - accuracy: 0.9965 - val_loss: 0.0743 - val_accuracy: 0.9811\n",
            "Epoch 31/100\n",
            "1250/1250 [==============================] - 4s 3ms/step - loss: 0.0182 - accuracy: 0.9967 - val_loss: 0.0748 - val_accuracy: 0.9798\n",
            "Epoch 32/100\n",
            "1250/1250 [==============================] - 4s 4ms/step - loss: 0.0172 - accuracy: 0.9968 - val_loss: 0.0747 - val_accuracy: 0.9801\n",
            "Epoch 33/100\n",
            "1250/1250 [==============================] - 4s 3ms/step - loss: 0.0161 - accuracy: 0.9973 - val_loss: 0.0752 - val_accuracy: 0.9794\n",
            "Epoch 34/100\n",
            "1250/1250 [==============================] - 4s 3ms/step - loss: 0.0152 - accuracy: 0.9976 - val_loss: 0.0758 - val_accuracy: 0.9797\n",
            "Epoch 35/100\n",
            "1250/1250 [==============================] - 4s 3ms/step - loss: 0.0143 - accuracy: 0.9977 - val_loss: 0.0753 - val_accuracy: 0.9805\n",
            "Epoch 36/100\n",
            "1250/1250 [==============================] - 4s 3ms/step - loss: 0.0134 - accuracy: 0.9979 - val_loss: 0.0762 - val_accuracy: 0.9802\n",
            "Epoch 37/100\n",
            "1250/1250 [==============================] - 4s 3ms/step - loss: 0.0127 - accuracy: 0.9980 - val_loss: 0.0751 - val_accuracy: 0.9805\n"
          ]
        }
      ],
      "source": [
        "# Fit the model with training data and validation data\n",
        "history3 = model3.fit(\n",
        "    X_train_normalized,\n",
        "    y_train_onehot,\n",
        "    epochs=100,\n",
        "    batch_size=32,\n",
        "    validation_data=[X_valid_normalized, y_valid_onehot],\n",
        "    callbacks=[early_stopping],\n",
        ")"
      ]
    },
    {
      "cell_type": "code",
      "execution_count": 27,
      "metadata": {
        "id": "LgKFSoHDAmxk"
      },
      "outputs": [
        {
          "name": "stdout",
          "output_type": "stream",
          "text": [
            "313/313 [==============================] - 1s 2ms/step - loss: 0.0738 - accuracy: 0.9803\n",
            "Model 3. Validation Loss: 0.0738, Validation Accuracy: 98.03%\n"
          ]
        }
      ],
      "source": [
        "# Final accuracy on validation data\n",
        "loss_val3, accuracy_val3 = model3.evaluate(X_valid_normalized, y_valid_onehot)\n",
        "print(f\"Model 3. Validation Loss: {loss_val3:.4f}, Validation Accuracy: {accuracy_val3 * 100:.2f}%\")"
      ]
    },
    {
      "cell_type": "code",
      "execution_count": 28,
      "metadata": {
        "id": "_NE2q8l8Amxk"
      },
      "outputs": [
        {
          "data": {
            "image/png": "[encoded data removed]",
            "text/plain": [
              "<Figure size 640x480 with 1 Axes>"
            ]
          },
          "metadata": {},
          "output_type": "display_data"
        }
      ],
      "source": [
        "# Plot training and validation accuracy\n",
        "tr_acc3 = history3.history['accuracy']\n",
        "val_acc3 = history3.history['val_accuracy']\n",
        "\n",
        "epochs = [i + 1 for i in range(len(tr_acc3))]\n",
        "plt.plot(epochs, tr_acc3, 'r', label='Accuracy on train data')\n",
        "plt.plot(epochs, val_acc3, 'g', label='Accuracy on validation data')\n",
        "plt.title('Accuracy (model 3)')\n",
        "plt.legend()\n",
        "plt.xlabel('Epochs')\n",
        "plt.ylabel('Accuracy')\n",
        "\n",
        "plt.tight_layout()\n",
        "plt.show()"
      ]
    },
    {
      "cell_type": "markdown",
      "metadata": {
        "id": "vRnvsi4WAmxw"
      },
      "source": [
        "#### Model 4"
      ]
    },
    {
      "cell_type": "code",
      "execution_count": 29,
      "metadata": {
        "id": "I4oa6rv9Amxw"
      },
      "outputs": [],
      "source": [
        "model4 = Sequential()\n",
        "\n",
        "# Add a dense layer with 64 neurons and LeakyReLU activation\n",
        "model4.add(Dense(64, activation=LeakyReLU(alpha=0.1), name='Hidden_1'))\n",
        "\n",
        "# Add a dense layer with 256 neurons and LeakyReLU activation\n",
        "model4.add(Dense(256, activation=LeakyReLU(alpha=0.1), name='Hidden_2'))\n",
        "\n",
        "# Add a dense layer with 10 neurons and softmax activation\n",
        "model4.add(Dense(10, activation='softmax', name='Output'))"
      ]
    },
    {
      "cell_type": "code",
      "execution_count": 30,
      "metadata": {
        "id": "yUBHmw1OAmxw"
      },
      "outputs": [],
      "source": [
        "# Compile the model\n",
        "sgd_optimizer = SGD(learning_rate=0.01)\n",
        "model4.compile(\n",
        "    loss='categorical_crossentropy',\n",
        "    optimizer=sgd_optimizer,\n",
        "    metrics=['accuracy'])\n",
        "\n",
        "# Stop training when validation loss does not improve for 10 epochs\n",
        "early_stopping = EarlyStopping(\n",
        "    monitor='val_loss', patience=10, restore_best_weights=True)"
      ]
    },
    {
      "cell_type": "code",
      "execution_count": 31,
      "metadata": {
        "id": "UBlJxkxXAmxx"
      },
      "outputs": [
        {
          "name": "stdout",
          "output_type": "stream",
          "text": [
            "Epoch 1/100\n"
          ]
        },
        {
          "name": "stderr",
          "output_type": "stream",
          "text": [
            "2023-11-11 12:32:38.365561: W tensorflow/tsl/framework/cpu_allocator_impl.cc:83] Allocation of 615040000 exceeds 10% of free system memory.\n"
          ]
        },
        {
          "name": "stdout",
          "output_type": "stream",
          "text": [
            "1250/1250 [==============================] - 5s 4ms/step - loss: 0.5361 - accuracy: 0.8726 - val_loss: 0.2392 - val_accuracy: 0.9322\n",
            "Epoch 2/100\n",
            "1250/1250 [==============================] - 4s 3ms/step - loss: 0.2075 - accuracy: 0.9435 - val_loss: 0.1898 - val_accuracy: 0.9482\n",
            "Epoch 3/100\n",
            "1250/1250 [==============================] - 4s 3ms/step - loss: 0.1724 - accuracy: 0.9533 - val_loss: 0.1683 - val_accuracy: 0.9541\n",
            "Epoch 4/100\n",
            "1250/1250 [==============================] - 4s 3ms/step - loss: 0.1527 - accuracy: 0.9596 - val_loss: 0.1600 - val_accuracy: 0.9563\n",
            "Epoch 5/100\n",
            "1250/1250 [==============================] - 4s 3ms/step - loss: 0.1382 - accuracy: 0.9632 - val_loss: 0.1520 - val_accuracy: 0.9585\n",
            "Epoch 6/100\n",
            "1250/1250 [==============================] - 4s 3ms/step - loss: 0.1258 - accuracy: 0.9666 - val_loss: 0.1387 - val_accuracy: 0.9644\n",
            "Epoch 7/100\n",
            "1250/1250 [==============================] - 4s 3ms/step - loss: 0.1149 - accuracy: 0.9701 - val_loss: 0.1324 - val_accuracy: 0.9637\n",
            "Epoch 8/100\n",
            "1250/1250 [==============================] - 4s 3ms/step - loss: 0.1056 - accuracy: 0.9721 - val_loss: 0.1232 - val_accuracy: 0.9659\n",
            "Epoch 9/100\n",
            "1250/1250 [==============================] - 4s 3ms/step - loss: 0.0968 - accuracy: 0.9747 - val_loss: 0.1177 - val_accuracy: 0.9670\n",
            "Epoch 10/100\n",
            "1250/1250 [==============================] - 4s 3ms/step - loss: 0.0894 - accuracy: 0.9763 - val_loss: 0.1151 - val_accuracy: 0.9682\n",
            "Epoch 11/100\n",
            "1250/1250 [==============================] - 4s 3ms/step - loss: 0.0824 - accuracy: 0.9790 - val_loss: 0.1098 - val_accuracy: 0.9689\n",
            "Epoch 12/100\n",
            "1250/1250 [==============================] - 4s 3ms/step - loss: 0.0762 - accuracy: 0.9801 - val_loss: 0.1047 - val_accuracy: 0.9717\n",
            "Epoch 13/100\n",
            "1250/1250 [==============================] - 4s 3ms/step - loss: 0.0708 - accuracy: 0.9819 - val_loss: 0.0992 - val_accuracy: 0.9728\n",
            "Epoch 14/100\n",
            "1250/1250 [==============================] - 4s 3ms/step - loss: 0.0658 - accuracy: 0.9832 - val_loss: 0.0971 - val_accuracy: 0.9733\n",
            "Epoch 15/100\n",
            "1250/1250 [==============================] - 4s 3ms/step - loss: 0.0609 - accuracy: 0.9841 - val_loss: 0.0942 - val_accuracy: 0.9741\n",
            "Epoch 16/100\n",
            "1250/1250 [==============================] - 4s 3ms/step - loss: 0.0569 - accuracy: 0.9857 - val_loss: 0.0922 - val_accuracy: 0.9743\n",
            "Epoch 17/100\n",
            "1250/1250 [==============================] - 4s 3ms/step - loss: 0.0532 - accuracy: 0.9868 - val_loss: 0.0901 - val_accuracy: 0.9765\n",
            "Epoch 18/100\n",
            "1250/1250 [==============================] - 4s 3ms/step - loss: 0.0495 - accuracy: 0.9877 - val_loss: 0.0906 - val_accuracy: 0.9756\n",
            "Epoch 19/100\n",
            "1250/1250 [==============================] - 4s 3ms/step - loss: 0.0463 - accuracy: 0.9886 - val_loss: 0.0878 - val_accuracy: 0.9761\n",
            "Epoch 20/100\n",
            "1250/1250 [==============================] - 4s 3ms/step - loss: 0.0431 - accuracy: 0.9901 - val_loss: 0.0854 - val_accuracy: 0.9772\n",
            "Epoch 21/100\n",
            "1250/1250 [==============================] - 4s 3ms/step - loss: 0.0405 - accuracy: 0.9905 - val_loss: 0.0853 - val_accuracy: 0.9782\n",
            "Epoch 22/100\n",
            "1250/1250 [==============================] - 4s 3ms/step - loss: 0.0382 - accuracy: 0.9909 - val_loss: 0.0856 - val_accuracy: 0.9767\n",
            "Epoch 23/100\n",
            "1250/1250 [==============================] - 4s 3ms/step - loss: 0.0356 - accuracy: 0.9918 - val_loss: 0.0851 - val_accuracy: 0.9773\n",
            "Epoch 24/100\n",
            "1250/1250 [==============================] - 4s 3ms/step - loss: 0.0335 - accuracy: 0.9922 - val_loss: 0.0834 - val_accuracy: 0.9783\n",
            "Epoch 25/100\n",
            "1250/1250 [==============================] - 4s 3ms/step - loss: 0.0310 - accuracy: 0.9929 - val_loss: 0.0819 - val_accuracy: 0.9784\n",
            "Epoch 26/100\n",
            "1250/1250 [==============================] - 4s 3ms/step - loss: 0.0293 - accuracy: 0.9936 - val_loss: 0.0820 - val_accuracy: 0.9786\n",
            "Epoch 27/100\n",
            "1250/1250 [==============================] - 4s 3ms/step - loss: 0.0276 - accuracy: 0.9938 - val_loss: 0.0813 - val_accuracy: 0.9784\n",
            "Epoch 28/100\n",
            "1250/1250 [==============================] - 4s 3ms/step - loss: 0.0259 - accuracy: 0.9942 - val_loss: 0.0817 - val_accuracy: 0.9789\n",
            "Epoch 29/100\n",
            "1250/1250 [==============================] - 4s 3ms/step - loss: 0.0243 - accuracy: 0.9949 - val_loss: 0.0806 - val_accuracy: 0.9783\n",
            "Epoch 30/100\n",
            "1250/1250 [==============================] - 4s 3ms/step - loss: 0.0228 - accuracy: 0.9955 - val_loss: 0.0813 - val_accuracy: 0.9790\n",
            "Epoch 31/100\n",
            "1250/1250 [==============================] - 4s 3ms/step - loss: 0.0214 - accuracy: 0.9960 - val_loss: 0.0814 - val_accuracy: 0.9794\n",
            "Epoch 32/100\n",
            "1250/1250 [==============================] - 4s 3ms/step - loss: 0.0202 - accuracy: 0.9961 - val_loss: 0.0812 - val_accuracy: 0.9786\n",
            "Epoch 33/100\n",
            "1250/1250 [==============================] - 4s 3ms/step - loss: 0.0189 - accuracy: 0.9965 - val_loss: 0.0807 - val_accuracy: 0.9797\n",
            "Epoch 34/100\n",
            "1250/1250 [==============================] - 4s 3ms/step - loss: 0.0178 - accuracy: 0.9970 - val_loss: 0.0827 - val_accuracy: 0.9789\n",
            "Epoch 35/100\n",
            "1250/1250 [==============================] - 4s 3ms/step - loss: 0.0169 - accuracy: 0.9971 - val_loss: 0.0817 - val_accuracy: 0.9789\n",
            "Epoch 36/100\n",
            "1250/1250 [==============================] - 4s 3ms/step - loss: 0.0159 - accuracy: 0.9974 - val_loss: 0.0816 - val_accuracy: 0.9796\n",
            "Epoch 37/100\n",
            "1250/1250 [==============================] - 4s 3ms/step - loss: 0.0148 - accuracy: 0.9977 - val_loss: 0.0827 - val_accuracy: 0.9788\n",
            "Epoch 38/100\n",
            "1250/1250 [==============================] - 4s 3ms/step - loss: 0.0140 - accuracy: 0.9979 - val_loss: 0.0830 - val_accuracy: 0.9793\n",
            "Epoch 39/100\n",
            "1250/1250 [==============================] - 4s 3ms/step - loss: 0.0131 - accuracy: 0.9981 - val_loss: 0.0832 - val_accuracy: 0.9794\n"
          ]
        }
      ],
      "source": [
        "# Fit the model with training data and validation data\n",
        "history4 = model4.fit(\n",
        "    X_train_normalized,\n",
        "    y_train_onehot,\n",
        "    epochs=100,\n",
        "    batch_size=32,\n",
        "    validation_data=[X_valid_normalized, y_valid_onehot],\n",
        "    callbacks=[early_stopping],\n",
        ")"
      ]
    },
    {
      "cell_type": "code",
      "execution_count": 32,
      "metadata": {
        "id": "Q9RfnUlGAmxx"
      },
      "outputs": [
        {
          "name": "stdout",
          "output_type": "stream",
          "text": [
            "313/313 [==============================] - 1s 2ms/step - loss: 0.0806 - accuracy: 0.9783\n",
            "Model 4. Validation Loss: 0.0806, Validation Accuracy: 97.83%\n"
          ]
        }
      ],
      "source": [
        "# Final accuracy on validation data\n",
        "loss_val4, accuracy_val4 = model4.evaluate(X_valid_normalized, y_valid_onehot)\n",
        "print(f\"Model 4. Validation Loss: {loss_val4:.4f}, Validation Accuracy: {accuracy_val4 * 100:.2f}%\")"
      ]
    },
    {
      "cell_type": "code",
      "execution_count": 33,
      "metadata": {
        "id": "8LOeGUIPAmxx"
      },
      "outputs": [
        {
          "data": {
            "image/png": "[encoded data removed]",
            "text/plain": [
              "<Figure size 640x480 with 1 Axes>"
            ]
          },
          "metadata": {},
          "output_type": "display_data"
        }
      ],
      "source": [
        "# Plot training and validation accuracy\n",
        "tr_acc4 = history4.history['accuracy']\n",
        "val_acc4 = history4.history['val_accuracy']\n",
        "\n",
        "epochs = [i + 1 for i in range(len(tr_acc4))]\n",
        "plt.plot(epochs, tr_acc4, 'r', label='Accuracy on train data')\n",
        "plt.plot(epochs, val_acc4, 'g', label='Accuracy on validation data')\n",
        "plt.title('Accuracy (model 4)')\n",
        "plt.legend()\n",
        "plt.xlabel('Epochs')\n",
        "plt.ylabel('Accuracy')\n",
        "\n",
        "plt.tight_layout()\n",
        "plt.show()"
      ]
    },
    {
      "cell_type": "markdown",
      "metadata": {
        "id": "TYEONtxrAmxx"
      },
      "source": [
        "### Compare models"
      ]
    },
    {
      "cell_type": "code",
      "execution_count": 34,
      "metadata": {
        "id": "qbhsMIT1Amxx"
      },
      "outputs": [
        {
          "data": {
            "image/png": "[encoded data removed]",
            "text/plain": [
              "<Figure size 900x600 with 1 Axes>"
            ]
          },
          "metadata": {},
          "output_type": "display_data"
        }
      ],
      "source": [
        "# To-Do (Plot validation accuracy of all models)\n",
        "val_accs = [val_acc1, val_acc2, val_acc3, val_acc4]\n",
        "epochs = [\n",
        "  [i + 1 for i in range(len(val_acc1))], \n",
        "  [i + 1 for i in range(len(val_acc2))],\n",
        "  [i + 1 for i in range(len(val_acc3))],\n",
        "  [i + 1 for i in range(len(val_acc4))],\n",
        "]\n",
        "\n",
        "model_colors = ['red', 'green', 'blue', 'black']\n",
        "\n",
        "plt.figure(figsize=(9, 6))\n",
        "for i, val_acc in enumerate(val_accs):\n",
        "  plt.plot(epochs[i], val_accs[i], model_colors[i], label=f'model {i + 1}')\n",
        "\n",
        "plt.title('Accuracy on validation data for all the 4 models')\n",
        "plt.legend()\n",
        "plt.xlabel('Epochs')\n",
        "plt.ylabel('Accuracy')\n",
        "plt.show()"
      ]
    },
    {
      "cell_type": "markdown",
      "metadata": {
        "id": "aiiLXgZmAmxy"
      },
      "source": [
        "<p dir=rtl style=\"direction: rtl;text-align: center;line-height:200%;font-family:vazir;font-size:medium; color:#0099cc\"><font face=\"vazir\" size=5><i>\n",
        "Conclusion:\n",
        "According to the accuracy of the models on the validation data, it can be concluded that the difference of hyperparameters in these four models does not create a significant difference on the accuracy of the model on the validation data (the final accuracy of all 4 models on the validation data is very close to % 98). But by comparing the accuracy of the models in each round in the graph above, it seems that the difference of hyperparameters in these four models has caused a slight change in their convergence speed; In other words, the speed of convergence of model number 1 is a little lower than the other 3 models, and it also seems that the speed of convergence of model number 3 is the highest.\n",
        "</i></font></p>"
      ]
    },
    {
      "cell_type": "markdown",
      "metadata": {
        "id": "OO9phLazAmxy"
      },
      "source": [
        "#### Find a better model"
      ]
    },
    {
      "cell_type": "code",
      "execution_count": 35,
      "metadata": {
        "id": "36FZJeYYAmxy"
      },
      "outputs": [
        {
          "name": "stdout",
          "output_type": "stream",
          "text": [
            "Epoch 1/100\n"
          ]
        },
        {
          "name": "stderr",
          "output_type": "stream",
          "text": [
            "2023-11-11 12:35:11.690028: W tensorflow/tsl/framework/cpu_allocator_impl.cc:83] Allocation of 615040000 exceeds 10% of free system memory.\n"
          ]
        },
        {
          "name": "stdout",
          "output_type": "stream",
          "text": [
            "1250/1250 [==============================] - 10s 7ms/step - loss: 0.1647 - accuracy: 0.9524 - val_loss: 0.0831 - val_accuracy: 0.9749\n",
            "Epoch 2/100\n",
            "1250/1250 [==============================] - 9s 7ms/step - loss: 0.0658 - accuracy: 0.9796 - val_loss: 0.0772 - val_accuracy: 0.9785\n",
            "Epoch 3/100\n",
            "1250/1250 [==============================] - 8s 7ms/step - loss: 0.0477 - accuracy: 0.9847 - val_loss: 0.0632 - val_accuracy: 0.9838\n",
            "Epoch 4/100\n",
            "1250/1250 [==============================] - 8s 6ms/step - loss: 0.0382 - accuracy: 0.9876 - val_loss: 0.0857 - val_accuracy: 0.9797\n",
            "Epoch 5/100\n",
            "1250/1250 [==============================] - 8s 7ms/step - loss: 0.0321 - accuracy: 0.9898 - val_loss: 0.0728 - val_accuracy: 0.9817\n",
            "Epoch 6/100\n",
            "1250/1250 [==============================] - 8s 7ms/step - loss: 0.0288 - accuracy: 0.9904 - val_loss: 0.0857 - val_accuracy: 0.9820\n",
            "Epoch 7/100\n",
            "1250/1250 [==============================] - 9s 7ms/step - loss: 0.0230 - accuracy: 0.9924 - val_loss: 0.0901 - val_accuracy: 0.9820\n",
            "Epoch 8/100\n",
            "1250/1250 [==============================] - 8s 7ms/step - loss: 0.0211 - accuracy: 0.9929 - val_loss: 0.0874 - val_accuracy: 0.9830\n",
            "Epoch 9/100\n",
            "1250/1250 [==============================] - 9s 7ms/step - loss: 0.0216 - accuracy: 0.9931 - val_loss: 0.0933 - val_accuracy: 0.9804\n",
            "Epoch 10/100\n",
            "1250/1250 [==============================] - 11s 9ms/step - loss: 0.0185 - accuracy: 0.9942 - val_loss: 0.0812 - val_accuracy: 0.9852\n",
            "Epoch 11/100\n",
            "1250/1250 [==============================] - 11s 8ms/step - loss: 0.0138 - accuracy: 0.9958 - val_loss: 0.0746 - val_accuracy: 0.9859\n",
            "Epoch 12/100\n",
            "1250/1250 [==============================] - 11s 9ms/step - loss: 0.0197 - accuracy: 0.9945 - val_loss: 0.0958 - val_accuracy: 0.9842\n",
            "Epoch 13/100\n",
            "1250/1250 [==============================] - 11s 8ms/step - loss: 0.0136 - accuracy: 0.9957 - val_loss: 0.1023 - val_accuracy: 0.9821\n"
          ]
        }
      ],
      "source": [
        "# Further tuning of hyperparameters)\n",
        "final_model = Sequential()\n",
        "\n",
        "# Add a dense layer with 64 neurons and ReLU activation\n",
        "final_model.add(\n",
        "    Dense(128, activation='relu', kernel_initializer='he_normal', name='Hidden_1'))\n",
        "\n",
        "# Add a droupout layer with 20% dropout rate\n",
        "final_model.add(Dropout(0.1, name='Dropout_1'))\n",
        "\n",
        "# Add a dense layer with 256 neurons and ReLU activation\n",
        "final_model.add(\n",
        "    Dense(400, activation='relu', kernel_initializer='he_normal', name='Hidden_2'))\n",
        "\n",
        "# Add a droupout layer with 20% dropout rate\n",
        "# final_model.add(Dropout(0.1, name='Dropout_2'))\n",
        "\n",
        "# Add a dense layer with 10 neurons and softmax activation\n",
        "final_model.add(Dense(10, activation='softmax', name='Output'))\n",
        "\n",
        "\n",
        "# Compile the model\n",
        "adam_optimizer = Adam(learning_rate=0.001)\n",
        "final_model.compile(\n",
        "    loss='categorical_crossentropy',\n",
        "    optimizer='adam',\n",
        "    metrics=['accuracy'])\n",
        "\n",
        "# Stop training when validation loss does not improve for 10 epochs\n",
        "early_stopping = EarlyStopping(\n",
        "    monitor='val_loss', patience=10, restore_best_weights=True)\n",
        "\n",
        "history_final = final_model.fit(\n",
        "    X_train_normalized,\n",
        "    y_train_onehot,\n",
        "    epochs=100,\n",
        "    batch_size=32,\n",
        "    validation_data=[X_valid_normalized, y_valid_onehot],\n",
        "    callbacks=[early_stopping],\n",
        ")"
      ]
    },
    {
      "cell_type": "code",
      "execution_count": 36,
      "metadata": {},
      "outputs": [
        {
          "name": "stdout",
          "output_type": "stream",
          "text": [
            "313/313 [==============================] - 1s 2ms/step - loss: 0.0632 - accuracy: 0.9838\n",
            "Final Model. Validation Loss: 0.0632, Validation Accuracy: 98.38%\n"
          ]
        }
      ],
      "source": [
        "# Final accuracy on validation data\n",
        "loss_val_final, accuracy_val_final = final_model.evaluate(X_valid_normalized, y_valid_onehot)\n",
        "print(f\"Final Model. Validation Loss: {loss_val_final:.4f}, Validation Accuracy: {accuracy_val_final * 100:.2f}%\")"
      ]
    },
    {
      "cell_type": "markdown",
      "metadata": {
        "id": "kvv5pHgYAmxy"
      },
      "source": [
        "### Evalustion on test dataset"
      ]
    },
    {
      "cell_type": "code",
      "execution_count": 37,
      "metadata": {
        "id": "RXjOdYZ6Amxy"
      },
      "outputs": [
        {
          "name": "stdout",
          "output_type": "stream",
          "text": [
            "313/313 [==============================] - 1s 2ms/step\n",
            "              precision    recall  f1-score   support\n",
            "\n",
            "           0       0.99      1.00      0.99       975\n",
            "           1       0.99      1.00      0.99       999\n",
            "           2       0.97      0.97      0.97       992\n",
            "           3       0.96      0.98      0.97      1005\n",
            "           4       0.98      0.96      0.97       991\n",
            "           5       0.99      0.99      0.99      1020\n",
            "           6       0.99      0.97      0.98       992\n",
            "           7       0.99      0.99      0.99      1006\n",
            "           8       0.99      0.99      0.99      1024\n",
            "           9       0.97      0.99      0.98       996\n",
            "\n",
            "    accuracy                           0.98     10000\n",
            "   macro avg       0.98      0.98      0.98     10000\n",
            "weighted avg       0.98      0.98      0.98     10000\n",
            "\n"
          ]
        }
      ],
      "source": [
        "# Final metrics on testing data\n",
        "\n",
        "# Predict on testing data\n",
        "y_pred = final_model.predict(X_test_normalized)\n",
        "y_pred = np.argmax(y_pred, axis=1)\n",
        "y_true = np.argmax(y_test_onehot, axis=1)\n",
        "\n",
        "# Report\n",
        "print(classification_report(y_true, y_pred))"
      ]
    },
    {
      "cell_type": "code",
      "execution_count": 38,
      "metadata": {},
      "outputs": [
        {
          "data": {
            "text/plain": [
              "<Axes: >"
            ]
          },
          "execution_count": 38,
          "metadata": {},
          "output_type": "execute_result"
        },
        {
          "data": {
            "image/png": "[encoded data removed]",
            "text/plain": [
              "<Figure size 900x600 with 2 Axes>"
            ]
          },
          "metadata": {},
          "output_type": "display_data"
        }
      ],
      "source": [
        "# Draw confusion matrix\n",
        "plt.figure(figsize=(9, 6))\n",
        "cm = confusion_matrix(y_test, y_pred)\n",
        "sns.heatmap(cm, annot=True)"
      ]
    }
  ],
  "metadata": {
    "accelerator": "GPU",
    "colab": {
      "gpuType": "T4",
      "provenance": [],
      "toc_visible": true
    },
    "kernelspec": {
      "display_name": "Python 3",
      "name": "python3"
    },
    "language_info": {
      "codemirror_mode": {
        "name": "ipython",
        "version": 3
      },
      "file_extension": ".py",
      "mimetype": "text/x-python",
      "name": "python",
      "nbconvert_exporter": "python",
      "pygments_lexer": "ipython3",
      "version": "3.9.18"
    },
    "orig_nbformat": 4
  },
  "nbformat": 4,
  "nbformat_minor": 0
}
